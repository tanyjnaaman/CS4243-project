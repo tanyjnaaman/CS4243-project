{
 "cells": [
  {
   "cell_type": "code",
   "execution_count": 1,
   "metadata": {},
   "outputs": [
    {
     "name": "stdout",
     "output_type": "stream",
     "text": [
      "device 0\n",
      "free mem is 10.76116943359375\n",
      "ratio is 2.888679424, sending tensor of size 3.725290298461914.\n",
      "device 1\n",
      "free mem is 10.76116943359375\n",
      "ratio is 2.888679424, sending tensor of size 3.725290298461914.\n",
      "free mem is 10.76116943359375\n",
      "ratio is 2.888679424, sending tensor of size 3.725290298461914.\n",
      "device 2\n",
      "free mem is 10.76116943359375\n",
      "ratio is 2.888679424, sending tensor of size 3.725290298461914.\n",
      "free mem is 10.76116943359375\n",
      "ratio is 2.888679424, sending tensor of size 3.725290298461914.\n",
      "device 3\n",
      "free mem is 10.76116943359375\n",
      "ratio is 2.888679424, sending tensor of size 3.725290298461914.\n",
      "free mem is 10.76116943359375\n",
      "ratio is 2.888679424, sending tensor of size 3.725290298461914.\n"
     ]
    }
   ],
   "source": [
    "import torch\n",
    "\n",
    "tensors = []\n",
    "devices = [0,1,2,3]\n",
    "for d in devices:\n",
    "    print(f\"device {d}\")\n",
    "    free_mem = torch.cuda.get_device_properties(d).total_memory\n",
    "    tensor = torch.rand(1000, 1000, 1000)\n",
    "    tensor_mem = tensor.element_size() * tensor.nelement()\n",
    "    for i in range(free_mem//tensor_mem):\n",
    "        try:\n",
    "            print(f\"free mem is {free_mem/(1024 **3)}\")\n",
    "            print(f\"ratio is {free_mem/tensor_mem}, sending tensor of size {tensor_mem/(1024**3)}.\")\n",
    "            tensor.to(f\"cuda:{d}\") # send to gpu\n",
    "            tensors.append(tensor) # maintain reference\n",
    "            tensor = torch.rand(1000, 1000, 1000) # create new \n",
    "            free_mem = torch.cuda.get_device_properties(d).total_memory\n",
    "        except:\n",
    "            break\n"
   ]
  },
  {
   "cell_type": "code",
   "execution_count": null,
   "metadata": {},
   "outputs": [],
   "source": []
  }
 ],
 "metadata": {
  "interpreter": {
   "hash": "9319ae1760e4d45d7d7c835d46b6f1010677823a105cd126e5ae41ed73f571cc"
  },
  "kernelspec": {
   "display_name": "Python 3.7.12 ('env')",
   "language": "python",
   "name": "python3"
  },
  "language_info": {
   "codemirror_mode": {
    "name": "ipython",
    "version": 3
   },
   "file_extension": ".py",
   "mimetype": "text/x-python",
   "name": "python",
   "nbconvert_exporter": "python",
   "pygments_lexer": "ipython3",
   "version": "3.7.12"
  },
  "orig_nbformat": 4
 },
 "nbformat": 4,
 "nbformat_minor": 2
}
