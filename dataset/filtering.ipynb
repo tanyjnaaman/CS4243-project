{
 "cells": [
  {
   "cell_type": "markdown",
   "id": "02b58b05",
   "metadata": {},
   "source": [
    "# Introduction\n",
    "This notebook documents the filtering and construction of the _Frogs_ dataset, as well as a basic exploratory analysis.\n",
    "\n",
    "## Source of the data\n",
    "We pulled the data using the user interface provided by [iNaturalist](), filtering by \"Frogs\" and \"Research-grade\" images from the past 2 years. The data is then provided as a `.csv` file with some metadata about the images, as well as weblinks from which we can download the actual images. \n",
    "\n"
   ]
  },
  {
   "cell_type": "code",
   "execution_count": 1,
   "id": "349ce8d6",
   "metadata": {},
   "outputs": [
    {
     "ename": "ModuleNotFoundError",
     "evalue": "No module named 'numba'",
     "output_type": "error",
     "traceback": [
      "\u001b[1;31m---------------------------------------------------------------------------\u001b[0m",
      "\u001b[1;31mModuleNotFoundError\u001b[0m                       Traceback (most recent call last)",
      "\u001b[1;32m~\\AppData\\Local\\Temp/ipykernel_38180/2066414661.py\u001b[0m in \u001b[0;36m<module>\u001b[1;34m\u001b[0m\n\u001b[0;32m      2\u001b[0m \u001b[1;32mimport\u001b[0m \u001b[0mpandas\u001b[0m \u001b[1;32mas\u001b[0m \u001b[0mpd\u001b[0m\u001b[1;33m\u001b[0m\u001b[1;33m\u001b[0m\u001b[0m\n\u001b[0;32m      3\u001b[0m \u001b[1;33m\u001b[0m\u001b[0m\n\u001b[1;32m----> 4\u001b[1;33m \u001b[1;32mfrom\u001b[0m \u001b[0mnumba\u001b[0m \u001b[1;32mimport\u001b[0m \u001b[0mprange\u001b[0m\u001b[1;33m\u001b[0m\u001b[1;33m\u001b[0m\u001b[0m\n\u001b[0m\u001b[0;32m      5\u001b[0m \u001b[1;33m\u001b[0m\u001b[0m\n\u001b[0;32m      6\u001b[0m \u001b[1;31m# custom modules\u001b[0m\u001b[1;33m\u001b[0m\u001b[1;33m\u001b[0m\u001b[1;33m\u001b[0m\u001b[0m\n",
      "\u001b[1;31mModuleNotFoundError\u001b[0m: No module named 'numba'"
     ]
    }
   ],
   "source": [
    "import os\n",
    "import pandas as pd\n",
    "\n",
    "from numba import prange\n",
    "\n",
    "# custom modules\n",
    "sys.path.append(\"/home/e/e0425222/CS4243/\")\n",
    "from utils.dataset_utils.filter_utils import visualize_images_from_df, retrieve_word_embeddings, compute_similarity_score, print_topk_words, groupby_plot_hist, filter_by_threshold_counts, download_image"
   ]
  },
  {
   "cell_type": "code",
   "execution_count": 2,
   "id": "7dd6c917",
   "metadata": {},
   "outputs": [
    {
     "data": {
      "text/html": [
       "<div>\n",
       "<style scoped>\n",
       "    .dataframe tbody tr th:only-of-type {\n",
       "        vertical-align: middle;\n",
       "    }\n",
       "\n",
       "    .dataframe tbody tr th {\n",
       "        vertical-align: top;\n",
       "    }\n",
       "\n",
       "    .dataframe thead th {\n",
       "        text-align: right;\n",
       "    }\n",
       "</style>\n",
       "<table border=\"1\" class=\"dataframe\">\n",
       "  <thead>\n",
       "    <tr style=\"text-align: right;\">\n",
       "      <th></th>\n",
       "      <th>id</th>\n",
       "      <th>observed_on_string</th>\n",
       "      <th>observed_on</th>\n",
       "      <th>time_observed_at</th>\n",
       "      <th>time_zone</th>\n",
       "      <th>user_id</th>\n",
       "      <th>user_login</th>\n",
       "      <th>created_at</th>\n",
       "      <th>updated_at</th>\n",
       "      <th>quality_grade</th>\n",
       "      <th>...</th>\n",
       "      <th>geoprivacy</th>\n",
       "      <th>taxon_geoprivacy</th>\n",
       "      <th>coordinates_obscured</th>\n",
       "      <th>positioning_method</th>\n",
       "      <th>positioning_device</th>\n",
       "      <th>species_guess</th>\n",
       "      <th>scientific_name</th>\n",
       "      <th>common_name</th>\n",
       "      <th>iconic_taxon_name</th>\n",
       "      <th>taxon_id</th>\n",
       "    </tr>\n",
       "  </thead>\n",
       "  <tbody>\n",
       "    <tr>\n",
       "      <th>0</th>\n",
       "      <td>73992831</td>\n",
       "      <td>Thu Apr 15 2021 07:10:05 GMT+0900 (GMT+9)</td>\n",
       "      <td>2021-04-15</td>\n",
       "      <td>2021-04-14 22:10:05 UTC</td>\n",
       "      <td>Tokyo</td>\n",
       "      <td>460572</td>\n",
       "      <td>norio_nomura</td>\n",
       "      <td>2021-04-14 23:15:23 UTC</td>\n",
       "      <td>2021-04-28 12:19:04 UTC</td>\n",
       "      <td>research</td>\n",
       "      <td>...</td>\n",
       "      <td>NaN</td>\n",
       "      <td>open</td>\n",
       "      <td>False</td>\n",
       "      <td>NaN</td>\n",
       "      <td>NaN</td>\n",
       "      <td>ニホンアマガエル</td>\n",
       "      <td>Hyla japonica</td>\n",
       "      <td>Japanese Tree Frog</td>\n",
       "      <td>Amphibia</td>\n",
       "      <td>23951</td>\n",
       "    </tr>\n",
       "    <tr>\n",
       "      <th>1</th>\n",
       "      <td>73992869</td>\n",
       "      <td>Thu Apr 15 2021 07:16:24 GMT+0900 (GMT+9)</td>\n",
       "      <td>2021-04-15</td>\n",
       "      <td>2021-04-14 22:16:24 UTC</td>\n",
       "      <td>Tokyo</td>\n",
       "      <td>460572</td>\n",
       "      <td>norio_nomura</td>\n",
       "      <td>2021-04-14 23:15:42 UTC</td>\n",
       "      <td>2021-04-28 05:38:57 UTC</td>\n",
       "      <td>research</td>\n",
       "      <td>...</td>\n",
       "      <td>NaN</td>\n",
       "      <td>open</td>\n",
       "      <td>False</td>\n",
       "      <td>NaN</td>\n",
       "      <td>NaN</td>\n",
       "      <td>Japanese Tree Frog</td>\n",
       "      <td>Hyla japonica</td>\n",
       "      <td>Japanese Tree Frog</td>\n",
       "      <td>Amphibia</td>\n",
       "      <td>23951</td>\n",
       "    </tr>\n",
       "    <tr>\n",
       "      <th>2</th>\n",
       "      <td>73999658</td>\n",
       "      <td>2021/04/15 10:04 AM AEST</td>\n",
       "      <td>2021-04-15</td>\n",
       "      <td>2021-04-15 00:04:00 UTC</td>\n",
       "      <td>Brisbane</td>\n",
       "      <td>1771883</td>\n",
       "      <td>graham_winterflood</td>\n",
       "      <td>2021-04-15 00:34:04 UTC</td>\n",
       "      <td>2022-02-04 13:11:14 UTC</td>\n",
       "      <td>research</td>\n",
       "      <td>...</td>\n",
       "      <td>NaN</td>\n",
       "      <td>open</td>\n",
       "      <td>False</td>\n",
       "      <td>NaN</td>\n",
       "      <td>NaN</td>\n",
       "      <td>White-lipped Tree Frog</td>\n",
       "      <td>Nyctimystes infrafrenatus</td>\n",
       "      <td>White-lipped Tree Frog</td>\n",
       "      <td>Amphibia</td>\n",
       "      <td>517066</td>\n",
       "    </tr>\n",
       "    <tr>\n",
       "      <th>3</th>\n",
       "      <td>74005755</td>\n",
       "      <td>Thu Apr 15 2021 07:08:31 GMT+1000 (GMT+10)</td>\n",
       "      <td>2021-04-15</td>\n",
       "      <td>2021-04-14 21:08:31 UTC</td>\n",
       "      <td>Brisbane</td>\n",
       "      <td>2579853</td>\n",
       "      <td>megahertzia</td>\n",
       "      <td>2021-04-15 01:53:49 UTC</td>\n",
       "      <td>2022-01-04 06:01:13 UTC</td>\n",
       "      <td>research</td>\n",
       "      <td>...</td>\n",
       "      <td>NaN</td>\n",
       "      <td>open</td>\n",
       "      <td>False</td>\n",
       "      <td>NaN</td>\n",
       "      <td>NaN</td>\n",
       "      <td>Desert Tree Frog</td>\n",
       "      <td>Litoria rubella</td>\n",
       "      <td>Desert Tree Frog</td>\n",
       "      <td>Amphibia</td>\n",
       "      <td>23611</td>\n",
       "    </tr>\n",
       "    <tr>\n",
       "      <th>4</th>\n",
       "      <td>74006270</td>\n",
       "      <td>2021-04-15 10:38:32 AM GMT+10:00</td>\n",
       "      <td>2021-04-15</td>\n",
       "      <td>2021-04-15 00:38:32 UTC</td>\n",
       "      <td>Brisbane</td>\n",
       "      <td>2235434</td>\n",
       "      <td>kimradnell</td>\n",
       "      <td>2021-04-15 02:01:22 UTC</td>\n",
       "      <td>2021-04-15 13:03:12 UTC</td>\n",
       "      <td>research</td>\n",
       "      <td>...</td>\n",
       "      <td>NaN</td>\n",
       "      <td>open</td>\n",
       "      <td>False</td>\n",
       "      <td>gps</td>\n",
       "      <td>gps</td>\n",
       "      <td>Eastern Dwarf Tree Frog</td>\n",
       "      <td>Litoria fallax</td>\n",
       "      <td>Eastern Dwarf Tree Frog</td>\n",
       "      <td>Amphibia</td>\n",
       "      <td>23656</td>\n",
       "    </tr>\n",
       "  </tbody>\n",
       "</table>\n",
       "<p>5 rows × 38 columns</p>\n",
       "</div>"
      ],
      "text/plain": [
       "         id                          observed_on_string observed_on  \\\n",
       "0  73992831   Thu Apr 15 2021 07:10:05 GMT+0900 (GMT+9)  2021-04-15   \n",
       "1  73992869   Thu Apr 15 2021 07:16:24 GMT+0900 (GMT+9)  2021-04-15   \n",
       "2  73999658                    2021/04/15 10:04 AM AEST  2021-04-15   \n",
       "3  74005755  Thu Apr 15 2021 07:08:31 GMT+1000 (GMT+10)  2021-04-15   \n",
       "4  74006270            2021-04-15 10:38:32 AM GMT+10:00  2021-04-15   \n",
       "\n",
       "          time_observed_at time_zone  user_id          user_login  \\\n",
       "0  2021-04-14 22:10:05 UTC     Tokyo   460572        norio_nomura   \n",
       "1  2021-04-14 22:16:24 UTC     Tokyo   460572        norio_nomura   \n",
       "2  2021-04-15 00:04:00 UTC  Brisbane  1771883  graham_winterflood   \n",
       "3  2021-04-14 21:08:31 UTC  Brisbane  2579853         megahertzia   \n",
       "4  2021-04-15 00:38:32 UTC  Brisbane  2235434          kimradnell   \n",
       "\n",
       "                created_at               updated_at quality_grade  ...  \\\n",
       "0  2021-04-14 23:15:23 UTC  2021-04-28 12:19:04 UTC      research  ...   \n",
       "1  2021-04-14 23:15:42 UTC  2021-04-28 05:38:57 UTC      research  ...   \n",
       "2  2021-04-15 00:34:04 UTC  2022-02-04 13:11:14 UTC      research  ...   \n",
       "3  2021-04-15 01:53:49 UTC  2022-01-04 06:01:13 UTC      research  ...   \n",
       "4  2021-04-15 02:01:22 UTC  2021-04-15 13:03:12 UTC      research  ...   \n",
       "\n",
       "  geoprivacy taxon_geoprivacy coordinates_obscured positioning_method  \\\n",
       "0        NaN             open                False                NaN   \n",
       "1        NaN             open                False                NaN   \n",
       "2        NaN             open                False                NaN   \n",
       "3        NaN             open                False                NaN   \n",
       "4        NaN             open                False                gps   \n",
       "\n",
       "  positioning_device            species_guess            scientific_name  \\\n",
       "0                NaN                 ニホンアマガエル              Hyla japonica   \n",
       "1                NaN       Japanese Tree Frog              Hyla japonica   \n",
       "2                NaN   White-lipped Tree Frog  Nyctimystes infrafrenatus   \n",
       "3                NaN         Desert Tree Frog            Litoria rubella   \n",
       "4                gps  Eastern Dwarf Tree Frog             Litoria fallax   \n",
       "\n",
       "               common_name  iconic_taxon_name  taxon_id  \n",
       "0       Japanese Tree Frog           Amphibia     23951  \n",
       "1       Japanese Tree Frog           Amphibia     23951  \n",
       "2   White-lipped Tree Frog           Amphibia    517066  \n",
       "3         Desert Tree Frog           Amphibia     23611  \n",
       "4  Eastern Dwarf Tree Frog           Amphibia     23656  \n",
       "\n",
       "[5 rows x 38 columns]"
      ]
     },
     "execution_count": 2,
     "metadata": {},
     "output_type": "execute_result"
    }
   ],
   "source": [
    "frogs_df = pd.read_csv(os.getcwd() + \"/frogs_metadata.csv\", sep=\",\")\n",
    "frogs_df.head()"
   ]
  },
  {
   "cell_type": "code",
   "execution_count": 3,
   "id": "7e88025c",
   "metadata": {
    "scrolled": true
   },
   "outputs": [
    {
     "name": "stdout",
     "output_type": "stream",
     "text": [
      "Columns are: \n",
      " Index(['id', 'observed_on_string', 'observed_on', 'time_observed_at',\n",
      "       'time_zone', 'user_id', 'user_login', 'created_at', 'updated_at',\n",
      "       'quality_grade', 'license', 'url', 'image_url', 'sound_url', 'tag_list',\n",
      "       'description', 'num_identification_agreements',\n",
      "       'num_identification_disagreements', 'captive_cultivated',\n",
      "       'oauth_application_id', 'place_guess', 'latitude', 'longitude',\n",
      "       'positional_accuracy', 'private_place_guess', 'private_latitude',\n",
      "       'private_longitude', 'public_positional_accuracy', 'geoprivacy',\n",
      "       'taxon_geoprivacy', 'coordinates_obscured', 'positioning_method',\n",
      "       'positioning_device', 'species_guess', 'scientific_name', 'common_name',\n",
      "       'iconic_taxon_name', 'taxon_id'],\n",
      "      dtype='object')\n",
      "Rows: 193005\n"
     ]
    }
   ],
   "source": [
    "print(\"Columns are: \\n\", frogs_df.columns)\n",
    "print(\"Rows:\", len(frogs_df))"
   ]
  },
  {
   "cell_type": "markdown",
   "id": "3588e208",
   "metadata": {},
   "source": [
    "## Basic cleaning"
   ]
  },
  {
   "cell_type": "code",
   "execution_count": 4,
   "id": "2edcbab3",
   "metadata": {},
   "outputs": [
    {
     "name": "stdout",
     "output_type": "stream",
     "text": [
      "Number of observations left: 186902\n"
     ]
    }
   ],
   "source": [
    "# removal of duplicates\n",
    "frogs_df = frogs_df.dropna(subset=['image_url']).drop_duplicates(subset=['image_url'])\n",
    "\n",
    "# remove non-image types (e.g. gifs)\n",
    "frogs_df = frogs_df[~(frogs_df['image_url'].apply(lambda x: x[-5:]).isin(['m.gif']))]\n",
    "\n",
    "print(f\"Number of observations left: {len(frogs_df)}\")"
   ]
  },
  {
   "cell_type": "markdown",
   "id": "264f08e0",
   "metadata": {},
   "source": [
    "## Filtering by description\n",
    "The dataset, from observation, appears to have a lot noisy images - dead animals, tadpoles, etc. all classified under \"frogs\". To remove these instances, we filter the images by removing those whose descriptions contain one of the top-_k_ words that are close to some filter keywords (e.g. dead)."
   ]
  },
  {
   "cell_type": "markdown",
   "id": "ad1f9416",
   "metadata": {},
   "source": [
    "We start by getting word embeddings of all words in all descriptions."
   ]
  },
  {
   "cell_type": "code",
   "execution_count": 5,
   "id": "1a8dc79c",
   "metadata": {},
   "outputs": [
    {
     "name": "stdout",
     "output_type": "stream",
     "text": [
      "Number after removing NaN image or description: 20964\n"
     ]
    }
   ],
   "source": [
    "frogs_df = frogs_df.dropna(subset=['description'])\n",
    "print(\"Number after removing NaN image or description:\", len(frogs_df))\n"
   ]
  },
  {
   "cell_type": "code",
   "execution_count": 6,
   "id": "a1121110",
   "metadata": {},
   "outputs": [
    {
     "name": "stdout",
     "output_type": "stream",
     "text": [
      "Number of unique words: 19401\n"
     ]
    },
    {
     "data": {
      "application/vnd.jupyter.widget-view+json": {
       "model_id": "b22a386213174323b239ef24db66e397",
       "version_major": 2,
       "version_minor": 0
      },
      "text/plain": [
       "Batches:   0%|          | 0/607 [00:00<?, ?it/s]"
      ]
     },
     "metadata": {},
     "output_type": "display_data"
    }
   ],
   "source": [
    "# get unique words\n",
    "words = frogs_df['description'].str.lower().str.findall(\"\\w+\")\n",
    "all_words = set()\n",
    "for l in words:\n",
    "    all_words.update(l)\n",
    "all_words = list(all_words)\n",
    "print(\"Number of unique words:\", len(all_words))\n",
    "\n",
    "# get embeddings\n",
    "all_embeddings = retrieve_word_embeddings(all_words)"
   ]
  },
  {
   "cell_type": "markdown",
   "id": "271b8541",
   "metadata": {},
   "source": [
    "We then use word embeddings to find samples with words related to our filter keywords via cosine similarity."
   ]
  },
  {
   "cell_type": "code",
   "execution_count": 7,
   "id": "943d3555",
   "metadata": {},
   "outputs": [
    {
     "data": {
      "application/vnd.jupyter.widget-view+json": {
       "model_id": "18927f41681546d8a9a2fa442b14bbbc",
       "version_major": 2,
       "version_minor": 0
      },
      "text/plain": [
       "Batches:   0%|          | 0/1 [00:00<?, ?it/s]"
      ]
     },
     "metadata": {},
     "output_type": "display_data"
    },
    {
     "name": "stdout",
     "output_type": "stream",
     "text": [
      "Word 1: dead\n",
      "[1.00000] - dead\n",
      "[0.80411] - deceased\n",
      "[0.77243] - died\n",
      "[0.76028] - killed\n",
      "[0.73655] - alive\n",
      "[0.73514] - dies\n",
      "[0.71713] - death\n",
      "[0.70168] - lifeless\n",
      "[0.68495] - die\n",
      "[0.66714] - dying\n",
      "[0.61315] - killing\n",
      "[0.60742] - lives\n",
      "[0.60381] - buried\n",
      "[0.59859] - demise\n",
      "[0.59787] - revive\n",
      "[0.59340] - kill\n",
      "[0.58957] - funeral\n",
      "[0.58482] - lived\n",
      "[0.56640] - living\n",
      "[0.55941] - live\n",
      "\n",
      "Word 2: spawn\n",
      "[1.00000] - spawn\n",
      "[0.85648] - spawning\n",
      "[0.85348] - spawned\n",
      "[0.53508] - create\n",
      "[0.53012] - emerge\n",
      "[0.50721] - nests\n",
      "[0.50456] - brood\n",
      "[0.49716] - frogspawn\n",
      "[0.49280] - reproduce\n",
      "[0.48963] - nest\n",
      "[0.48769] - populated\n",
      "[0.48695] - creating\n",
      "[0.47868] - emergent\n",
      "[0.47711] - generated\n",
      "[0.47677] - reproduction\n",
      "[0.47651] - emergents\n",
      "[0.47553] - swarming\n",
      "[0.47350] - swarm\n",
      "[0.47272] - feeder\n",
      "[0.47156] - generates\n",
      "\n",
      "Word 3: egg\n",
      "[1.00000] - egg\n",
      "[0.91213] - eggs\n",
      "[0.59257] - chicken\n",
      "[0.56302] - chickens\n",
      "[0.55838] - breeding\n",
      "[0.55598] - hatchling\n",
      "[0.55007] - duck\n",
      "[0.54836] - feathers\n",
      "[0.54708] - hatching\n",
      "[0.54578] - hatches\n",
      "[0.53518] - hatchlings\n",
      "[0.53462] - bird\n",
      "[0.53388] - scrambled\n",
      "[0.52578] - breed\n",
      "[0.52506] - ovum\n",
      "[0.52439] - milk\n",
      "[0.51899] - hatchery\n",
      "[0.51785] - ovular\n",
      "[0.51061] - cooked\n",
      "[0.50770] - food\n",
      "\n",
      "Word 4: tadpole\n",
      "[1.00000] - tadpole\n",
      "[0.94694] - tadpolee\n",
      "[0.91085] - tadpoles\n",
      "[0.68524] - taddies\n",
      "[0.67382] - taddie\n",
      "[0.66051] - frogget\n",
      "[0.65104] - frog\n",
      "[0.65104] - frög\n",
      "[0.61495] - toad\n",
      "[0.60708] - frogle\n",
      "[0.60537] - frogsand\n",
      "[0.60486] - frogamet\n",
      "[0.60153] - frogid\n",
      "[0.60075] - frogstoads\n",
      "[0.59992] - froglet\n",
      "[0.59321] - frogsandtoads\n",
      "[0.59018] - toadlet\n",
      "[0.58947] - froge\n",
      "[0.58682] - frogge\n",
      "[0.58625] - tads\n",
      "\n",
      "Word 5: nest\n",
      "[1.00000] - nest\n",
      "[0.89366] - neste\n",
      "[0.88689] - nesting\n",
      "[0.88109] - nesters\n",
      "[0.80639] - nests\n",
      "[0.66617] - brood\n",
      "[0.52981] - hatchlings\n",
      "[0.52536] - roof\n",
      "[0.52523] - spawned\n",
      "[0.52233] - offspring\n",
      "[0.51912] - tree\n",
      "[0.51216] - tent\n",
      "[0.50840] - swarming\n",
      "[0.50544] - swarm\n",
      "[0.49554] - warbler\n",
      "[0.49482] - hatchling\n",
      "[0.49321] - spawning\n",
      "[0.49098] - hatchery\n",
      "[0.49067] - breeding\n",
      "[0.49023] - flock\n",
      "\n",
      "Word 6: brood\n",
      "[1.00000] - brood\n",
      "[0.69714] - nesters\n",
      "[0.68655] - nests\n",
      "[0.66616] - nest\n",
      "[0.65030] - breeding\n",
      "[0.62817] - nesting\n",
      "[0.62464] - flock\n",
      "[0.61561] - neste\n",
      "[0.59999] - offspring\n",
      "[0.59696] - swarming\n",
      "[0.58431] - birds\n",
      "[0.57628] - hatchlings\n",
      "[0.57620] - swarm\n",
      "[0.57598] - birdbaths\n",
      "[0.56559] - farm\n",
      "[0.56536] - spawning\n",
      "[0.56080] - hatchling\n",
      "[0.55518] - birding\n",
      "[0.55224] - feeder\n",
      "[0.54156] - progeny\n",
      "\n"
     ]
    }
   ],
   "source": [
    "seed_words = [\n",
    "    'dead',\n",
    "    'spawn',\n",
    "    'egg',\n",
    "    'tadpole',\n",
    "    'nest',\n",
    "    'brood'\n",
    "]\n",
    "\n",
    "# embed, find top k similar words for each seed word\n",
    "seed_embeddings = retrieve_word_embeddings(seed_words)\n",
    "scores = compute_similarity_score(seed_embeddings, all_embeddings)\n",
    "sorted_word_list = print_topk_words(\n",
    "    query_words = seed_words, \n",
    "    scores = scores, \n",
    "    key_words = all_words, \n",
    "    k = 20, \n",
    "    threshold = 0.75)\n"
   ]
  },
  {
   "cell_type": "markdown",
   "id": "407d1d8b",
   "metadata": {},
   "source": [
    "Then we find the words within these retrieved similar words that have a similarity score above a threshold."
   ]
  },
  {
   "cell_type": "code",
   "execution_count": 8,
   "id": "d4b02c16",
   "metadata": {},
   "outputs": [
    {
     "name": "stdout",
     "output_type": "stream",
     "text": [
      "Unique filter words are:\n",
      " {'deceased', 'nest', 'killed', 'nests', 'eggs', 'egg', 'spawning', 'tadpole', 'nesting', 'spawn', 'tadpoles', 'neste', 'spawned', 'tadpolee', 'nesters', 'died', 'brood', 'dead'}\n",
      "No. words: 18\n"
     ]
    }
   ],
   "source": [
    "# get set of top k words greater than threshold in similarity\n",
    "unique_filter_words = set()\n",
    "unique_filter_words.update(list(map(lambda wordscore : wordscore[0], sorted_word_list)))\n",
    "print(\"Unique filter words are:\\n\", unique_filter_words)\n",
    "print(\"No. words:\", len(unique_filter_words))"
   ]
  },
  {
   "cell_type": "markdown",
   "id": "a9b107e1",
   "metadata": {},
   "source": [
    "Then we visualize the samples from these words."
   ]
  },
  {
   "cell_type": "code",
   "execution_count": 9,
   "id": "999ef465",
   "metadata": {},
   "outputs": [
    {
     "name": "stdout",
     "output_type": "stream",
     "text": [
      "For deceased, 25 samples.\n"
     ]
    },
    {
     "data": {
      "text/html": [
       "<div class=\"zoom\"><img style='width: 100px; height: 100px; margin: 1px; float: left; border: 0px solid black;'title=https://www.inaturalist.org/observations/82425128 src='https://inaturalist-open-data.s3.amazonaws.com/photos/135278616/medium.jpeg'/></div><div class=\"zoom\"><img style='width: 100px; height: 100px; margin: 1px; float: left; border: 0px solid black;'title=https://www.inaturalist.org/observations/75983599 src='https://inaturalist-open-data.s3.amazonaws.com/photos/124325939/medium.jpg'/></div><div class=\"zoom\"><img style='width: 100px; height: 100px; margin: 1px; float: left; border: 0px solid black;'title=https://www.inaturalist.org/observations/78607734 src='https://inaturalist-open-data.s3.amazonaws.com/photos/128665700/medium.jpeg'/></div><div class=\"zoom\"><img style='width: 100px; height: 100px; margin: 1px; float: left; border: 0px solid black;'title=https://www.inaturalist.org/observations/87505340 src='https://inaturalist-open-data.s3.amazonaws.com/photos/144282115/medium.jpeg'/></div><div class=\"zoom\"><img style='width: 100px; height: 100px; margin: 1px; float: left; border: 0px solid black;'title=https://www.inaturalist.org/observations/79665126 src='https://inaturalist-open-data.s3.amazonaws.com/photos/130502944/medium.jpeg'/></div><div class=\"zoom\"><img style='width: 100px; height: 100px; margin: 1px; float: left; border: 0px solid black;'title=https://www.inaturalist.org/observations/74344074 src='https://inaturalist-open-data.s3.amazonaws.com/photos/121495201/medium.jpg'/></div><div class=\"zoom\"><img style='width: 100px; height: 100px; margin: 1px; float: left; border: 0px solid black;'title=https://www.inaturalist.org/observations/106473443 src='https://static.inaturalist.org/photos/178866330/medium.jpeg'/></div><div class=\"zoom\"><img style='width: 100px; height: 100px; margin: 1px; float: left; border: 0px solid black;'title=https://www.inaturalist.org/observations/75280026 src='https://static.inaturalist.org/photos/123135853/medium.jpg'/></div><div class=\"zoom\"><img style='width: 100px; height: 100px; margin: 1px; float: left; border: 0px solid black;'title=https://www.inaturalist.org/observations/102127709 src='https://inaturalist-open-data.s3.amazonaws.com/photos/171117686/medium.jpg'/></div><div class=\"zoom\"><img style='width: 100px; height: 100px; margin: 1px; float: left; border: 0px solid black;'title=https://www.inaturalist.org/observations/96115662 src='https://inaturalist-open-data.s3.amazonaws.com/photos/159637660/medium.jpeg'/></div><div class=\"zoom\"><img style='width: 100px; height: 100px; margin: 1px; float: left; border: 0px solid black;'title=https://www.inaturalist.org/observations/85525969 src='https://inaturalist-open-data.s3.amazonaws.com/photos/140729257/medium.jpg'/></div><div class=\"zoom\"><img style='width: 100px; height: 100px; margin: 1px; float: left; border: 0px solid black;'title=https://www.inaturalist.org/observations/90832498 src='https://inaturalist-open-data.s3.amazonaws.com/photos/150158194/medium.jpg'/></div><div class=\"zoom\"><img style='width: 100px; height: 100px; margin: 1px; float: left; border: 0px solid black;'title=https://www.inaturalist.org/observations/104032608 src='https://inaturalist-open-data.s3.amazonaws.com/photos/174259373/medium.jpg'/></div><div class=\"zoom\"><img style='width: 100px; height: 100px; margin: 1px; float: left; border: 0px solid black;'title=https://www.inaturalist.org/observations/108217880 src='https://static.inaturalist.org/photos/182160710/medium.jpg'/></div><div class=\"zoom\"><img style='width: 100px; height: 100px; margin: 1px; float: left; border: 0px solid black;'title=https://www.inaturalist.org/observations/102253090 src='https://inaturalist-open-data.s3.amazonaws.com/photos/170888440/medium.jpeg'/></div><div class=\"zoom\"><img style='width: 100px; height: 100px; margin: 1px; float: left; border: 0px solid black;'title=https://www.inaturalist.org/observations/93282562 src='https://inaturalist-open-data.s3.amazonaws.com/photos/154659424/medium.jpg'/></div>"
      ],
      "text/plain": [
       "<IPython.core.display.HTML object>"
      ]
     },
     "metadata": {},
     "output_type": "display_data"
    },
    {
     "name": "stdout",
     "output_type": "stream",
     "text": [
      "For nest, 37 samples.\n"
     ]
    },
    {
     "data": {
      "text/html": [
       "<div class=\"zoom\"><img style='width: 100px; height: 100px; margin: 1px; float: left; border: 0px solid black;'title=https://www.inaturalist.org/observations/88374037 src='https://inaturalist-open-data.s3.amazonaws.com/photos/145803251/medium.jpg'/></div><div class=\"zoom\"><img style='width: 100px; height: 100px; margin: 1px; float: left; border: 0px solid black;'title=https://www.inaturalist.org/observations/98575504 src='https://static.inaturalist.org/photos/164151514/medium.jpeg'/></div><div class=\"zoom\"><img style='width: 100px; height: 100px; margin: 1px; float: left; border: 0px solid black;'title=https://www.inaturalist.org/observations/92328064 src='https://inaturalist-open-data.s3.amazonaws.com/photos/152861798/medium.jpeg'/></div><div class=\"zoom\"><img style='width: 100px; height: 100px; margin: 1px; float: left; border: 0px solid black;'title=https://www.inaturalist.org/observations/86167314 src='https://static.inaturalist.org/photos/141904798/medium.jpeg'/></div><div class=\"zoom\"><img style='width: 100px; height: 100px; margin: 1px; float: left; border: 0px solid black;'title=https://www.inaturalist.org/observations/88759653 src='https://inaturalist-open-data.s3.amazonaws.com/photos/146489584/medium.jpg'/></div><div class=\"zoom\"><img style='width: 100px; height: 100px; margin: 1px; float: left; border: 0px solid black;'title=https://www.inaturalist.org/observations/103941905 src='https://inaturalist-open-data.s3.amazonaws.com/photos/174095812/medium.jpeg'/></div><div class=\"zoom\"><img style='width: 100px; height: 100px; margin: 1px; float: left; border: 0px solid black;'title=https://www.inaturalist.org/observations/91842284 src='https://static.inaturalist.org/photos/151981101/medium.jpeg'/></div><div class=\"zoom\"><img style='width: 100px; height: 100px; margin: 1px; float: left; border: 0px solid black;'title=https://www.inaturalist.org/observations/108114009 src='https://inaturalist-open-data.s3.amazonaws.com/photos/181967622/medium.jpg'/></div><div class=\"zoom\"><img style='width: 100px; height: 100px; margin: 1px; float: left; border: 0px solid black;'title=https://www.inaturalist.org/observations/87067834 src='https://inaturalist-open-data.s3.amazonaws.com/photos/143520895/medium.jpeg'/></div><div class=\"zoom\"><img style='width: 100px; height: 100px; margin: 1px; float: left; border: 0px solid black;'title=https://www.inaturalist.org/observations/94487554 src='https://inaturalist-open-data.s3.amazonaws.com/photos/156743394/medium.jpg'/></div><div class=\"zoom\"><img style='width: 100px; height: 100px; margin: 1px; float: left; border: 0px solid black;'title=https://www.inaturalist.org/observations/80336036 src='https://inaturalist-open-data.s3.amazonaws.com/photos/139936804/medium.jpg'/></div><div class=\"zoom\"><img style='width: 100px; height: 100px; margin: 1px; float: left; border: 0px solid black;'title=https://www.inaturalist.org/observations/88854722 src='https://inaturalist-open-data.s3.amazonaws.com/photos/146660225/medium.jpg'/></div><div class=\"zoom\"><img style='width: 100px; height: 100px; margin: 1px; float: left; border: 0px solid black;'title=https://www.inaturalist.org/observations/81731831 src='https://inaturalist-open-data.s3.amazonaws.com/photos/134072098/medium.jpg'/></div><div class=\"zoom\"><img style='width: 100px; height: 100px; margin: 1px; float: left; border: 0px solid black;'title=https://www.inaturalist.org/observations/93155670 src='https://static.inaturalist.org/photos/154345063/medium.jpg'/></div><div class=\"zoom\"><img style='width: 100px; height: 100px; margin: 1px; float: left; border: 0px solid black;'title=https://www.inaturalist.org/observations/79066992 src='https://inaturalist-open-data.s3.amazonaws.com/photos/129463231/medium.jpeg'/></div><div class=\"zoom\"><img style='width: 100px; height: 100px; margin: 1px; float: left; border: 0px solid black;'title=https://www.inaturalist.org/observations/103870675 src='https://inaturalist-open-data.s3.amazonaws.com/photos/173955977/medium.jpeg'/></div>"
      ],
      "text/plain": [
       "<IPython.core.display.HTML object>"
      ]
     },
     "metadata": {},
     "output_type": "display_data"
    },
    {
     "name": "stdout",
     "output_type": "stream",
     "text": [
      "For killed, 16 samples.\n"
     ]
    },
    {
     "data": {
      "text/html": [
       "<div class=\"zoom\"><img style='width: 100px; height: 100px; margin: 1px; float: left; border: 0px solid black;'title=https://www.inaturalist.org/observations/108889731 src='https://inaturalist-open-data.s3.amazonaws.com/photos/183421822/medium.jpg'/></div><div class=\"zoom\"><img style='width: 100px; height: 100px; margin: 1px; float: left; border: 0px solid black;'title=https://www.inaturalist.org/observations/79256487 src='https://inaturalist-open-data.s3.amazonaws.com/photos/129801741/medium.jpg'/></div><div class=\"zoom\"><img style='width: 100px; height: 100px; margin: 1px; float: left; border: 0px solid black;'title=https://www.inaturalist.org/observations/93146754 src='https://inaturalist-open-data.s3.amazonaws.com/photos/154340261/medium.jpg'/></div><div class=\"zoom\"><img style='width: 100px; height: 100px; margin: 1px; float: left; border: 0px solid black;'title=https://www.inaturalist.org/observations/102143944 src='https://inaturalist-open-data.s3.amazonaws.com/photos/170691033/medium.jpg'/></div><div class=\"zoom\"><img style='width: 100px; height: 100px; margin: 1px; float: left; border: 0px solid black;'title=https://www.inaturalist.org/observations/82671775 src='https://inaturalist-open-data.s3.amazonaws.com/photos/135709199/medium.jpeg'/></div><div class=\"zoom\"><img style='width: 100px; height: 100px; margin: 1px; float: left; border: 0px solid black;'title=https://www.inaturalist.org/observations/100889575 src='https://inaturalist-open-data.s3.amazonaws.com/photos/168436052/medium.jpg'/></div><div class=\"zoom\"><img style='width: 100px; height: 100px; margin: 1px; float: left; border: 0px solid black;'title=https://www.inaturalist.org/observations/84634228 src='https://inaturalist-open-data.s3.amazonaws.com/photos/139120699/medium.jpg'/></div><div class=\"zoom\"><img style='width: 100px; height: 100px; margin: 1px; float: left; border: 0px solid black;'title=https://www.inaturalist.org/observations/82385516 src='https://inaturalist-open-data.s3.amazonaws.com/photos/135211758/medium.jpeg'/></div><div class=\"zoom\"><img style='width: 100px; height: 100px; margin: 1px; float: left; border: 0px solid black;'title=https://www.inaturalist.org/observations/106738518 src='https://static.inaturalist.org/photos/179373553/medium.jpeg'/></div><div class=\"zoom\"><img style='width: 100px; height: 100px; margin: 1px; float: left; border: 0px solid black;'title=https://www.inaturalist.org/observations/76520621 src='https://inaturalist-open-data.s3.amazonaws.com/photos/125167050/medium.jpg'/></div><div class=\"zoom\"><img style='width: 100px; height: 100px; margin: 1px; float: left; border: 0px solid black;'title=https://www.inaturalist.org/observations/95724551 src='https://inaturalist-open-data.s3.amazonaws.com/photos/158950495/medium.jpeg'/></div><div class=\"zoom\"><img style='width: 100px; height: 100px; margin: 1px; float: left; border: 0px solid black;'title=https://www.inaturalist.org/observations/107595208 src='https://static.inaturalist.org/photos/180993160/medium.jpeg'/></div><div class=\"zoom\"><img style='width: 100px; height: 100px; margin: 1px; float: left; border: 0px solid black;'title=https://www.inaturalist.org/observations/108350626 src='https://static.inaturalist.org/photos/182409352/medium.jpeg'/></div><div class=\"zoom\"><img style='width: 100px; height: 100px; margin: 1px; float: left; border: 0px solid black;'title=https://www.inaturalist.org/observations/103610783 src='https://inaturalist-open-data.s3.amazonaws.com/photos/173451117/medium.jpg'/></div><div class=\"zoom\"><img style='width: 100px; height: 100px; margin: 1px; float: left; border: 0px solid black;'title=https://www.inaturalist.org/observations/95725610 src='https://inaturalist-open-data.s3.amazonaws.com/photos/158952383/medium.jpg'/></div><div class=\"zoom\"><img style='width: 100px; height: 100px; margin: 1px; float: left; border: 0px solid black;'title=https://www.inaturalist.org/observations/91218403 src='https://inaturalist-open-data.s3.amazonaws.com/photos/150850078/medium.jpeg'/></div>"
      ],
      "text/plain": [
       "<IPython.core.display.HTML object>"
      ]
     },
     "metadata": {},
     "output_type": "display_data"
    },
    {
     "name": "stdout",
     "output_type": "stream",
     "text": [
      "For nests, 3 samples.\n"
     ]
    },
    {
     "data": {
      "text/html": [
       "<div class=\"zoom\"><img style='width: 100px; height: 100px; margin: 1px; float: left; border: 0px solid black;'title=https://www.inaturalist.org/observations/91842284 src='https://static.inaturalist.org/photos/151981101/medium.jpeg'/></div><div class=\"zoom\"><img style='width: 100px; height: 100px; margin: 1px; float: left; border: 0px solid black;'title=https://www.inaturalist.org/observations/94769063 src='https://static.inaturalist.org/photos/157245619/medium.jpg'/></div><div class=\"zoom\"><img style='width: 100px; height: 100px; margin: 1px; float: left; border: 0px solid black;'title=https://www.inaturalist.org/observations/108114009 src='https://inaturalist-open-data.s3.amazonaws.com/photos/181967622/medium.jpg'/></div>"
      ],
      "text/plain": [
       "<IPython.core.display.HTML object>"
      ]
     },
     "metadata": {},
     "output_type": "display_data"
    },
    {
     "name": "stdout",
     "output_type": "stream",
     "text": [
      "For eggs, 165 samples.\n"
     ]
    },
    {
     "data": {
      "text/html": [
       "<div class=\"zoom\"><img style='width: 100px; height: 100px; margin: 1px; float: left; border: 0px solid black;'title=https://www.inaturalist.org/observations/74984727 src='https://inaturalist-open-data.s3.amazonaws.com/photos/122619896/medium.jpeg'/></div><div class=\"zoom\"><img style='width: 100px; height: 100px; margin: 1px; float: left; border: 0px solid black;'title=https://www.inaturalist.org/observations/107866473 src='https://inaturalist-open-data.s3.amazonaws.com/photos/181501822/medium.jpg'/></div><div class=\"zoom\"><img style='width: 100px; height: 100px; margin: 1px; float: left; border: 0px solid black;'title=https://www.inaturalist.org/observations/91492851 src='https://inaturalist-open-data.s3.amazonaws.com/photos/151349575/medium.jpeg'/></div><div class=\"zoom\"><img style='width: 100px; height: 100px; margin: 1px; float: left; border: 0px solid black;'title=https://www.inaturalist.org/observations/101175076 src='https://static.inaturalist.org/photos/168932181/medium.jpeg'/></div><div class=\"zoom\"><img style='width: 100px; height: 100px; margin: 1px; float: left; border: 0px solid black;'title=https://www.inaturalist.org/observations/89748256 src='https://inaturalist-open-data.s3.amazonaws.com/photos/148242326/medium.jpeg'/></div><div class=\"zoom\"><img style='width: 100px; height: 100px; margin: 1px; float: left; border: 0px solid black;'title=https://www.inaturalist.org/observations/106851259 src='https://inaturalist-open-data.s3.amazonaws.com/photos/179590996/medium.jpeg'/></div><div class=\"zoom\"><img style='width: 100px; height: 100px; margin: 1px; float: left; border: 0px solid black;'title=https://www.inaturalist.org/observations/79053110 src='https://static.inaturalist.org/photos/129438336/medium.jpeg'/></div><div class=\"zoom\"><img style='width: 100px; height: 100px; margin: 1px; float: left; border: 0px solid black;'title=https://www.inaturalist.org/observations/80339857 src='https://inaturalist-open-data.s3.amazonaws.com/photos/131666127/medium.jpg'/></div><div class=\"zoom\"><img style='width: 100px; height: 100px; margin: 1px; float: left; border: 0px solid black;'title=https://www.inaturalist.org/observations/78113026 src='https://static.inaturalist.org/photos/127803578/medium.jpeg'/></div><div class=\"zoom\"><img style='width: 100px; height: 100px; margin: 1px; float: left; border: 0px solid black;'title=https://www.inaturalist.org/observations/77014003 src='https://static.inaturalist.org/photos/125964756/medium.jpeg'/></div><div class=\"zoom\"><img style='width: 100px; height: 100px; margin: 1px; float: left; border: 0px solid black;'title=https://www.inaturalist.org/observations/105353660 src='https://inaturalist-open-data.s3.amazonaws.com/photos/176751763/medium.jpg'/></div><div class=\"zoom\"><img style='width: 100px; height: 100px; margin: 1px; float: left; border: 0px solid black;'title=https://www.inaturalist.org/observations/109003743 src='https://inaturalist-open-data.s3.amazonaws.com/photos/183635640/medium.jpeg'/></div><div class=\"zoom\"><img style='width: 100px; height: 100px; margin: 1px; float: left; border: 0px solid black;'title=https://www.inaturalist.org/observations/102490448 src='https://inaturalist-open-data.s3.amazonaws.com/photos/171323622/medium.jpeg'/></div><div class=\"zoom\"><img style='width: 100px; height: 100px; margin: 1px; float: left; border: 0px solid black;'title=https://www.inaturalist.org/observations/103902080 src='https://static.inaturalist.org/photos/174113741/medium.jpeg'/></div><div class=\"zoom\"><img style='width: 100px; height: 100px; margin: 1px; float: left; border: 0px solid black;'title=https://www.inaturalist.org/observations/79585551 src='https://inaturalist-open-data.s3.amazonaws.com/photos/130366693/medium.jpeg'/></div><div class=\"zoom\"><img style='width: 100px; height: 100px; margin: 1px; float: left; border: 0px solid black;'title=https://www.inaturalist.org/observations/79071893 src='https://inaturalist-open-data.s3.amazonaws.com/photos/129471822/medium.jpeg'/></div>"
      ],
      "text/plain": [
       "<IPython.core.display.HTML object>"
      ]
     },
     "metadata": {},
     "output_type": "display_data"
    },
    {
     "name": "stdout",
     "output_type": "stream",
     "text": [
      "For egg, 278 samples.\n"
     ]
    },
    {
     "data": {
      "text/html": [
       "<div class=\"zoom\"><img style='width: 100px; height: 100px; margin: 1px; float: left; border: 0px solid black;'title=https://www.inaturalist.org/observations/79578565 src='https://inaturalist-open-data.s3.amazonaws.com/photos/130354167/medium.jpg'/></div><div class=\"zoom\"><img style='width: 100px; height: 100px; margin: 1px; float: left; border: 0px solid black;'title=https://www.inaturalist.org/observations/75509118 src='https://inaturalist-open-data.s3.amazonaws.com/photos/123545236/medium.jpeg'/></div><div class=\"zoom\"><img style='width: 100px; height: 100px; margin: 1px; float: left; border: 0px solid black;'title=https://www.inaturalist.org/observations/103693977 src='https://inaturalist-open-data.s3.amazonaws.com/photos/173606894/medium.jpeg'/></div><div class=\"zoom\"><img style='width: 100px; height: 100px; margin: 1px; float: left; border: 0px solid black;'title=https://www.inaturalist.org/observations/75758506 src='https://static.inaturalist.org/photos/123976943/medium.jpeg'/></div><div class=\"zoom\"><img style='width: 100px; height: 100px; margin: 1px; float: left; border: 0px solid black;'title=https://www.inaturalist.org/observations/107922968 src='https://static.inaturalist.org/photos/181604982/medium.jpeg'/></div><div class=\"zoom\"><img style='width: 100px; height: 100px; margin: 1px; float: left; border: 0px solid black;'title=https://www.inaturalist.org/observations/106797565 src='https://static.inaturalist.org/photos/179489927/medium.jpeg'/></div><div class=\"zoom\"><img style='width: 100px; height: 100px; margin: 1px; float: left; border: 0px solid black;'title=https://www.inaturalist.org/observations/108174437 src='https://inaturalist-open-data.s3.amazonaws.com/photos/182080809/medium.jpeg'/></div><div class=\"zoom\"><img style='width: 100px; height: 100px; margin: 1px; float: left; border: 0px solid black;'title=https://www.inaturalist.org/observations/87434210 src='https://inaturalist-open-data.s3.amazonaws.com/photos/144154580/medium.jpg'/></div><div class=\"zoom\"><img style='width: 100px; height: 100px; margin: 1px; float: left; border: 0px solid black;'title=https://www.inaturalist.org/observations/74654790 src='https://inaturalist-open-data.s3.amazonaws.com/photos/122039441/medium.jpg'/></div><div class=\"zoom\"><img style='width: 100px; height: 100px; margin: 1px; float: left; border: 0px solid black;'title=https://www.inaturalist.org/observations/80801176 src='https://inaturalist-open-data.s3.amazonaws.com/photos/132463556/medium.jpg'/></div><div class=\"zoom\"><img style='width: 100px; height: 100px; margin: 1px; float: left; border: 0px solid black;'title=https://www.inaturalist.org/observations/108335400 src='https://inaturalist-open-data.s3.amazonaws.com/photos/182380159/medium.jpeg'/></div><div class=\"zoom\"><img style='width: 100px; height: 100px; margin: 1px; float: left; border: 0px solid black;'title=https://www.inaturalist.org/observations/95646384 src='https://static.inaturalist.org/photos/158808615/medium.jpg'/></div><div class=\"zoom\"><img style='width: 100px; height: 100px; margin: 1px; float: left; border: 0px solid black;'title=https://www.inaturalist.org/observations/80636041 src='https://inaturalist-open-data.s3.amazonaws.com/photos/132173883/medium.jpeg'/></div><div class=\"zoom\"><img style='width: 100px; height: 100px; margin: 1px; float: left; border: 0px solid black;'title=https://www.inaturalist.org/observations/90814270 src='https://inaturalist-open-data.s3.amazonaws.com/photos/150124558/medium.jpg'/></div><div class=\"zoom\"><img style='width: 100px; height: 100px; margin: 1px; float: left; border: 0px solid black;'title=https://www.inaturalist.org/observations/74685563 src='https://inaturalist-open-data.s3.amazonaws.com/photos/122092136/medium.jpeg'/></div><div class=\"zoom\"><img style='width: 100px; height: 100px; margin: 1px; float: left; border: 0px solid black;'title=https://www.inaturalist.org/observations/85141801 src='https://inaturalist-open-data.s3.amazonaws.com/photos/140037961/medium.jpg'/></div>"
      ],
      "text/plain": [
       "<IPython.core.display.HTML object>"
      ]
     },
     "metadata": {},
     "output_type": "display_data"
    },
    {
     "name": "stdout",
     "output_type": "stream",
     "text": [
      "For spawning, 5 samples.\n"
     ]
    },
    {
     "data": {
      "text/html": [
       "<div class=\"zoom\"><img style='width: 100px; height: 100px; margin: 1px; float: left; border: 0px solid black;'title=https://www.inaturalist.org/observations/80560932 src='https://static.inaturalist.org/photos/132054122/medium.jpeg'/></div><div class=\"zoom\"><img style='width: 100px; height: 100px; margin: 1px; float: left; border: 0px solid black;'title=https://www.inaturalist.org/observations/78961697 src='https://inaturalist-open-data.s3.amazonaws.com/photos/129282500/medium.jpeg'/></div><div class=\"zoom\"><img style='width: 100px; height: 100px; margin: 1px; float: left; border: 0px solid black;'title=https://www.inaturalist.org/observations/108174648 src='https://inaturalist-open-data.s3.amazonaws.com/photos/182081085/medium.jpeg'/></div><div class=\"zoom\"><img style='width: 100px; height: 100px; margin: 1px; float: left; border: 0px solid black;'title=https://www.inaturalist.org/observations/90441708 src='https://static.inaturalist.org/photos/149476526/medium.jpg'/></div><div class=\"zoom\"><img style='width: 100px; height: 100px; margin: 1px; float: left; border: 0px solid black;'title=https://www.inaturalist.org/observations/94488472 src='https://inaturalist-open-data.s3.amazonaws.com/photos/156743678/medium.jpeg'/></div>"
      ],
      "text/plain": [
       "<IPython.core.display.HTML object>"
      ]
     },
     "metadata": {},
     "output_type": "display_data"
    },
    {
     "name": "stdout",
     "output_type": "stream",
     "text": [
      "For tadpole, 325 samples.\n"
     ]
    },
    {
     "data": {
      "text/html": [
       "<div class=\"zoom\"><img style='width: 100px; height: 100px; margin: 1px; float: left; border: 0px solid black;'title=https://www.inaturalist.org/observations/103936192 src='https://inaturalist-open-data.s3.amazonaws.com/photos/174084094/medium.jpg'/></div><div class=\"zoom\"><img style='width: 100px; height: 100px; margin: 1px; float: left; border: 0px solid black;'title=https://www.inaturalist.org/observations/105074921 src='https://inaturalist-open-data.s3.amazonaws.com/photos/176214673/medium.jpeg'/></div><div class=\"zoom\"><img style='width: 100px; height: 100px; margin: 1px; float: left; border: 0px solid black;'title=https://www.inaturalist.org/observations/82765034 src='https://inaturalist-open-data.s3.amazonaws.com/photos/135867068/medium.jpeg'/></div><div class=\"zoom\"><img style='width: 100px; height: 100px; margin: 1px; float: left; border: 0px solid black;'title=https://www.inaturalist.org/observations/95290296 src='https://inaturalist-open-data.s3.amazonaws.com/photos/158172586/medium.jpeg'/></div><div class=\"zoom\"><img style='width: 100px; height: 100px; margin: 1px; float: left; border: 0px solid black;'title=https://www.inaturalist.org/observations/102243646 src='https://inaturalist-open-data.s3.amazonaws.com/photos/170870738/medium.jpeg'/></div><div class=\"zoom\"><img style='width: 100px; height: 100px; margin: 1px; float: left; border: 0px solid black;'title=https://www.inaturalist.org/observations/85449919 src='https://static.inaturalist.org/photos/140596751/medium.jpeg'/></div><div class=\"zoom\"><img style='width: 100px; height: 100px; margin: 1px; float: left; border: 0px solid black;'title=https://www.inaturalist.org/observations/85853105 src='https://inaturalist-open-data.s3.amazonaws.com/photos/141328473/medium.jpg'/></div><div class=\"zoom\"><img style='width: 100px; height: 100px; margin: 1px; float: left; border: 0px solid black;'title=https://www.inaturalist.org/observations/87586942 src='https://static.inaturalist.org/photos/144420470/medium.jpg'/></div><div class=\"zoom\"><img style='width: 100px; height: 100px; margin: 1px; float: left; border: 0px solid black;'title=https://www.inaturalist.org/observations/83004517 src='https://inaturalist-open-data.s3.amazonaws.com/photos/136283510/medium.jpeg'/></div><div class=\"zoom\"><img style='width: 100px; height: 100px; margin: 1px; float: left; border: 0px solid black;'title=https://www.inaturalist.org/observations/83052682 src='https://static.inaturalist.org/photos/136368754/medium.jpeg'/></div><div class=\"zoom\"><img style='width: 100px; height: 100px; margin: 1px; float: left; border: 0px solid black;'title=https://www.inaturalist.org/observations/84315606 src='https://inaturalist-open-data.s3.amazonaws.com/photos/138562780/medium.jpg'/></div><div class=\"zoom\"><img style='width: 100px; height: 100px; margin: 1px; float: left; border: 0px solid black;'title=https://www.inaturalist.org/observations/75761696 src='https://inaturalist-open-data.s3.amazonaws.com/photos/123981875/medium.jpeg'/></div><div class=\"zoom\"><img style='width: 100px; height: 100px; margin: 1px; float: left; border: 0px solid black;'title=https://www.inaturalist.org/observations/84716973 src='https://inaturalist-open-data.s3.amazonaws.com/photos/139267231/medium.jpeg'/></div><div class=\"zoom\"><img style='width: 100px; height: 100px; margin: 1px; float: left; border: 0px solid black;'title=https://www.inaturalist.org/observations/76722608 src='https://inaturalist-open-data.s3.amazonaws.com/photos/125481161/medium.jpeg'/></div><div class=\"zoom\"><img style='width: 100px; height: 100px; margin: 1px; float: left; border: 0px solid black;'title=https://www.inaturalist.org/observations/90000433 src='https://inaturalist-open-data.s3.amazonaws.com/photos/148686867/medium.jpg'/></div><div class=\"zoom\"><img style='width: 100px; height: 100px; margin: 1px; float: left; border: 0px solid black;'title=https://www.inaturalist.org/observations/86109462 src='https://inaturalist-open-data.s3.amazonaws.com/photos/141799885/medium.jpg'/></div>"
      ],
      "text/plain": [
       "<IPython.core.display.HTML object>"
      ]
     },
     "metadata": {},
     "output_type": "display_data"
    },
    {
     "name": "stdout",
     "output_type": "stream",
     "text": [
      "For nesting, 2 samples.\n"
     ]
    },
    {
     "data": {
      "text/html": [
       "<div class=\"zoom\"><img style='width: 100px; height: 100px; margin: 1px; float: left; border: 0px solid black;'title=https://www.inaturalist.org/observations/84003237 src='https://inaturalist-open-data.s3.amazonaws.com/photos/138019306/medium.jpg'/></div><div class=\"zoom\"><img style='width: 100px; height: 100px; margin: 1px; float: left; border: 0px solid black;'title=https://www.inaturalist.org/observations/79066992 src='https://inaturalist-open-data.s3.amazonaws.com/photos/129463231/medium.jpeg'/></div>"
      ],
      "text/plain": [
       "<IPython.core.display.HTML object>"
      ]
     },
     "metadata": {},
     "output_type": "display_data"
    },
    {
     "name": "stdout",
     "output_type": "stream",
     "text": [
      "For spawn, 65 samples.\n"
     ]
    },
    {
     "data": {
      "text/html": [
       "<div class=\"zoom\"><img style='width: 100px; height: 100px; margin: 1px; float: left; border: 0px solid black;'title=https://www.inaturalist.org/observations/100833875 src='https://inaturalist-open-data.s3.amazonaws.com/photos/168334512/medium.jpg'/></div><div class=\"zoom\"><img style='width: 100px; height: 100px; margin: 1px; float: left; border: 0px solid black;'title=https://www.inaturalist.org/observations/83195822 src='https://static.inaturalist.org/photos/136615731/medium.jpeg'/></div><div class=\"zoom\"><img style='width: 100px; height: 100px; margin: 1px; float: left; border: 0px solid black;'title=https://www.inaturalist.org/observations/107710597 src='https://inaturalist-open-data.s3.amazonaws.com/photos/181210927/medium.jpg'/></div><div class=\"zoom\"><img style='width: 100px; height: 100px; margin: 1px; float: left; border: 0px solid black;'title=https://www.inaturalist.org/observations/108385389 src='https://inaturalist-open-data.s3.amazonaws.com/photos/182474731/medium.jpg'/></div><div class=\"zoom\"><img style='width: 100px; height: 100px; margin: 1px; float: left; border: 0px solid black;'title=https://www.inaturalist.org/observations/99316998 src='https://inaturalist-open-data.s3.amazonaws.com/photos/165537187/medium.jpg'/></div><div class=\"zoom\"><img style='width: 100px; height: 100px; margin: 1px; float: left; border: 0px solid black;'title=https://www.inaturalist.org/observations/107902828 src='https://inaturalist-open-data.s3.amazonaws.com/photos/181575383/medium.jpg'/></div><div class=\"zoom\"><img style='width: 100px; height: 100px; margin: 1px; float: left; border: 0px solid black;'title=https://www.inaturalist.org/observations/108518342 src='https://inaturalist-open-data.s3.amazonaws.com/photos/182751368/medium.jpg'/></div><div class=\"zoom\"><img style='width: 100px; height: 100px; margin: 1px; float: left; border: 0px solid black;'title=https://www.inaturalist.org/observations/85850406 src='https://inaturalist-open-data.s3.amazonaws.com/photos/141321977/medium.jpeg'/></div><div class=\"zoom\"><img style='width: 100px; height: 100px; margin: 1px; float: left; border: 0px solid black;'title=https://www.inaturalist.org/observations/94637234 src='https://inaturalist-open-data.s3.amazonaws.com/photos/157064227/medium.jpg'/></div><div class=\"zoom\"><img style='width: 100px; height: 100px; margin: 1px; float: left; border: 0px solid black;'title=https://www.inaturalist.org/observations/108662961 src='https://static.inaturalist.org/photos/182998509/medium.jpeg'/></div><div class=\"zoom\"><img style='width: 100px; height: 100px; margin: 1px; float: left; border: 0px solid black;'title=https://www.inaturalist.org/observations/106322731 src='https://static.inaturalist.org/photos/178586482/medium.jpeg'/></div><div class=\"zoom\"><img style='width: 100px; height: 100px; margin: 1px; float: left; border: 0px solid black;'title=https://www.inaturalist.org/observations/76551315 src='https://static.inaturalist.org/photos/125214572/medium.jpeg'/></div><div class=\"zoom\"><img style='width: 100px; height: 100px; margin: 1px; float: left; border: 0px solid black;'title=https://www.inaturalist.org/observations/106337282 src='https://inaturalist-open-data.s3.amazonaws.com/photos/178613224/medium.jpeg'/></div><div class=\"zoom\"><img style='width: 100px; height: 100px; margin: 1px; float: left; border: 0px solid black;'title=https://www.inaturalist.org/observations/108309985 src='https://inaturalist-open-data.s3.amazonaws.com/photos/182334625/medium.jpg'/></div><div class=\"zoom\"><img style='width: 100px; height: 100px; margin: 1px; float: left; border: 0px solid black;'title=https://www.inaturalist.org/observations/107189134 src='https://static.inaturalist.org/photos/180232451/medium.jpg'/></div><div class=\"zoom\"><img style='width: 100px; height: 100px; margin: 1px; float: left; border: 0px solid black;'title=https://www.inaturalist.org/observations/108317640 src='https://static.inaturalist.org/photos/182347686/medium.jpeg'/></div>"
      ],
      "text/plain": [
       "<IPython.core.display.HTML object>"
      ]
     },
     "metadata": {},
     "output_type": "display_data"
    },
    {
     "name": "stdout",
     "output_type": "stream",
     "text": [
      "For tadpoles, 222 samples.\n"
     ]
    },
    {
     "data": {
      "text/html": [
       "<div class=\"zoom\"><img style='width: 100px; height: 100px; margin: 1px; float: left; border: 0px solid black;'title=https://www.inaturalist.org/observations/105074921 src='https://inaturalist-open-data.s3.amazonaws.com/photos/176214673/medium.jpeg'/></div><div class=\"zoom\"><img style='width: 100px; height: 100px; margin: 1px; float: left; border: 0px solid black;'title=https://www.inaturalist.org/observations/83901142 src='https://inaturalist-open-data.s3.amazonaws.com/photos/137838231/medium.jpeg'/></div><div class=\"zoom\"><img style='width: 100px; height: 100px; margin: 1px; float: left; border: 0px solid black;'title=https://www.inaturalist.org/observations/101302807 src='https://inaturalist-open-data.s3.amazonaws.com/photos/169170402/medium.jpg'/></div><div class=\"zoom\"><img style='width: 100px; height: 100px; margin: 1px; float: left; border: 0px solid black;'title=https://www.inaturalist.org/observations/78229754 src='https://inaturalist-open-data.s3.amazonaws.com/photos/128000955/medium.jpeg'/></div><div class=\"zoom\"><img style='width: 100px; height: 100px; margin: 1px; float: left; border: 0px solid black;'title=https://www.inaturalist.org/observations/85449919 src='https://static.inaturalist.org/photos/140596751/medium.jpeg'/></div><div class=\"zoom\"><img style='width: 100px; height: 100px; margin: 1px; float: left; border: 0px solid black;'title=https://www.inaturalist.org/observations/85210844 src='https://inaturalist-open-data.s3.amazonaws.com/photos/140164572/medium.jpg'/></div><div class=\"zoom\"><img style='width: 100px; height: 100px; margin: 1px; float: left; border: 0px solid black;'title=https://www.inaturalist.org/observations/79322122 src='https://static.inaturalist.org/photos/129915107/medium.jpg'/></div><div class=\"zoom\"><img style='width: 100px; height: 100px; margin: 1px; float: left; border: 0px solid black;'title=https://www.inaturalist.org/observations/84773270 src='https://inaturalist-open-data.s3.amazonaws.com/photos/139365974/medium.jpg'/></div><div class=\"zoom\"><img style='width: 100px; height: 100px; margin: 1px; float: left; border: 0px solid black;'title=https://www.inaturalist.org/observations/80537925 src='https://static.inaturalist.org/photos/132012708/medium.jpg'/></div><div class=\"zoom\"><img style='width: 100px; height: 100px; margin: 1px; float: left; border: 0px solid black;'title=https://www.inaturalist.org/observations/105862550 src='https://static.inaturalist.org/photos/177721527/medium.jpg'/></div><div class=\"zoom\"><img style='width: 100px; height: 100px; margin: 1px; float: left; border: 0px solid black;'title=https://www.inaturalist.org/observations/87819552 src='https://inaturalist-open-data.s3.amazonaws.com/photos/144833942/medium.jpeg'/></div><div class=\"zoom\"><img style='width: 100px; height: 100px; margin: 1px; float: left; border: 0px solid black;'title=https://www.inaturalist.org/observations/79110066 src='https://inaturalist-open-data.s3.amazonaws.com/photos/129542776/medium.jpeg'/></div><div class=\"zoom\"><img style='width: 100px; height: 100px; margin: 1px; float: left; border: 0px solid black;'title=https://www.inaturalist.org/observations/76601823 src='https://inaturalist-open-data.s3.amazonaws.com/photos/125292810/medium.jpeg'/></div><div class=\"zoom\"><img style='width: 100px; height: 100px; margin: 1px; float: left; border: 0px solid black;'title=https://www.inaturalist.org/observations/83195822 src='https://static.inaturalist.org/photos/136615731/medium.jpeg'/></div><div class=\"zoom\"><img style='width: 100px; height: 100px; margin: 1px; float: left; border: 0px solid black;'title=https://www.inaturalist.org/observations/95556709 src='https://inaturalist-open-data.s3.amazonaws.com/photos/158653352/medium.jpg'/></div><div class=\"zoom\"><img style='width: 100px; height: 100px; margin: 1px; float: left; border: 0px solid black;'title=https://www.inaturalist.org/observations/77282775 src='https://inaturalist-open-data.s3.amazonaws.com/photos/126382685/medium.jpeg'/></div>"
      ],
      "text/plain": [
       "<IPython.core.display.HTML object>"
      ]
     },
     "metadata": {},
     "output_type": "display_data"
    },
    {
     "name": "stdout",
     "output_type": "stream",
     "text": [
      "For neste, 2 samples.\n"
     ]
    },
    {
     "data": {
      "text/html": [
       "<div class=\"zoom\"><img style='width: 100px; height: 100px; margin: 1px; float: left; border: 0px solid black;'title=https://www.inaturalist.org/observations/104772621 src='https://inaturalist-open-data.s3.amazonaws.com/photos/175634129/medium.jpeg'/></div><div class=\"zoom\"><img style='width: 100px; height: 100px; margin: 1px; float: left; border: 0px solid black;'title=https://www.inaturalist.org/observations/103424559 src='https://inaturalist-open-data.s3.amazonaws.com/photos/173092747/medium.jpeg'/></div>"
      ],
      "text/plain": [
       "<IPython.core.display.HTML object>"
      ]
     },
     "metadata": {},
     "output_type": "display_data"
    },
    {
     "name": "stdout",
     "output_type": "stream",
     "text": [
      "For spawned, 1 samples.\n"
     ]
    },
    {
     "data": {
      "text/html": [
       "<div class=\"zoom\"><img style='width: 100px; height: 100px; margin: 1px; float: left; border: 0px solid black;'title=https://www.inaturalist.org/observations/83195822 src='https://static.inaturalist.org/photos/136615731/medium.jpeg'/></div>"
      ],
      "text/plain": [
       "<IPython.core.display.HTML object>"
      ]
     },
     "metadata": {},
     "output_type": "display_data"
    },
    {
     "name": "stdout",
     "output_type": "stream",
     "text": [
      "For tadpolee, 1 samples.\n"
     ]
    },
    {
     "data": {
      "text/html": [
       "<div class=\"zoom\"><img style='width: 100px; height: 100px; margin: 1px; float: left; border: 0px solid black;'title=https://www.inaturalist.org/observations/100563804 src='https://inaturalist-open-data.s3.amazonaws.com/photos/167855629/medium.jpeg'/></div>"
      ],
      "text/plain": [
       "<IPython.core.display.HTML object>"
      ]
     },
     "metadata": {},
     "output_type": "display_data"
    },
    {
     "name": "stdout",
     "output_type": "stream",
     "text": [
      "For nesters, 1 samples.\n"
     ]
    },
    {
     "data": {
      "text/html": [
       "<div class=\"zoom\"><img style='width: 100px; height: 100px; margin: 1px; float: left; border: 0px solid black;'title=https://www.inaturalist.org/observations/104772621 src='https://inaturalist-open-data.s3.amazonaws.com/photos/175634129/medium.jpeg'/></div>"
      ],
      "text/plain": [
       "<IPython.core.display.HTML object>"
      ]
     },
     "metadata": {},
     "output_type": "display_data"
    },
    {
     "name": "stdout",
     "output_type": "stream",
     "text": [
      "For died, 22 samples.\n"
     ]
    },
    {
     "data": {
      "text/html": [
       "<div class=\"zoom\"><img style='width: 100px; height: 100px; margin: 1px; float: left; border: 0px solid black;'title=https://www.inaturalist.org/observations/79795561 src='https://inaturalist-open-data.s3.amazonaws.com/photos/130724649/medium.jpeg'/></div><div class=\"zoom\"><img style='width: 100px; height: 100px; margin: 1px; float: left; border: 0px solid black;'title=https://www.inaturalist.org/observations/87788884 src='https://inaturalist-open-data.s3.amazonaws.com/photos/144775524/medium.jpeg'/></div><div class=\"zoom\"><img style='width: 100px; height: 100px; margin: 1px; float: left; border: 0px solid black;'title=https://www.inaturalist.org/observations/81032543 src='https://inaturalist-open-data.s3.amazonaws.com/photos/132866006/medium.jpeg'/></div><div class=\"zoom\"><img style='width: 100px; height: 100px; margin: 1px; float: left; border: 0px solid black;'title=https://www.inaturalist.org/observations/91723815 src='https://inaturalist-open-data.s3.amazonaws.com/photos/151768700/medium.jpg'/></div><div class=\"zoom\"><img style='width: 100px; height: 100px; margin: 1px; float: left; border: 0px solid black;'title=https://www.inaturalist.org/observations/104566852 src='https://inaturalist-open-data.s3.amazonaws.com/photos/175241234/medium.jpeg'/></div><div class=\"zoom\"><img style='width: 100px; height: 100px; margin: 1px; float: left; border: 0px solid black;'title=https://www.inaturalist.org/observations/94276184 src='https://inaturalist-open-data.s3.amazonaws.com/photos/156370927/medium.jpeg'/></div><div class=\"zoom\"><img style='width: 100px; height: 100px; margin: 1px; float: left; border: 0px solid black;'title=https://www.inaturalist.org/observations/106947916 src='https://inaturalist-open-data.s3.amazonaws.com/photos/179773955/medium.jpg'/></div><div class=\"zoom\"><img style='width: 100px; height: 100px; margin: 1px; float: left; border: 0px solid black;'title=https://www.inaturalist.org/observations/81032519 src='https://inaturalist-open-data.s3.amazonaws.com/photos/132866203/medium.jpeg'/></div><div class=\"zoom\"><img style='width: 100px; height: 100px; margin: 1px; float: left; border: 0px solid black;'title=https://www.inaturalist.org/observations/84773270 src='https://inaturalist-open-data.s3.amazonaws.com/photos/139365974/medium.jpg'/></div><div class=\"zoom\"><img style='width: 100px; height: 100px; margin: 1px; float: left; border: 0px solid black;'title=https://www.inaturalist.org/observations/76052781 src='https://inaturalist-open-data.s3.amazonaws.com/photos/124437573/medium.jpg'/></div><div class=\"zoom\"><img style='width: 100px; height: 100px; margin: 1px; float: left; border: 0px solid black;'title=https://www.inaturalist.org/observations/86932268 src='https://inaturalist-open-data.s3.amazonaws.com/photos/143297085/medium.jpeg'/></div><div class=\"zoom\"><img style='width: 100px; height: 100px; margin: 1px; float: left; border: 0px solid black;'title=https://www.inaturalist.org/observations/99720353 src='https://inaturalist-open-data.s3.amazonaws.com/photos/166298025/medium.jpeg'/></div><div class=\"zoom\"><img style='width: 100px; height: 100px; margin: 1px; float: left; border: 0px solid black;'title=https://www.inaturalist.org/observations/75233474 src='https://static.inaturalist.org/photos/123282194/medium.jpg'/></div><div class=\"zoom\"><img style='width: 100px; height: 100px; margin: 1px; float: left; border: 0px solid black;'title=https://www.inaturalist.org/observations/96354217 src='https://inaturalist-open-data.s3.amazonaws.com/photos/160065936/medium.jpg'/></div><div class=\"zoom\"><img style='width: 100px; height: 100px; margin: 1px; float: left; border: 0px solid black;'title=https://www.inaturalist.org/observations/92708584 src='https://inaturalist-open-data.s3.amazonaws.com/photos/164445650/medium.jpg'/></div><div class=\"zoom\"><img style='width: 100px; height: 100px; margin: 1px; float: left; border: 0px solid black;'title=https://www.inaturalist.org/observations/94905941 src='https://inaturalist-open-data.s3.amazonaws.com/photos/157491116/medium.jpg'/></div>"
      ],
      "text/plain": [
       "<IPython.core.display.HTML object>"
      ]
     },
     "metadata": {},
     "output_type": "display_data"
    },
    {
     "name": "stdout",
     "output_type": "stream",
     "text": [
      "For brood, 1 samples.\n"
     ]
    },
    {
     "data": {
      "text/html": [
       "<div class=\"zoom\"><img style='width: 100px; height: 100px; margin: 1px; float: left; border: 0px solid black;'title=https://www.inaturalist.org/observations/105544236 src='https://inaturalist-open-data.s3.amazonaws.com/photos/177112640/medium.jpg'/></div>"
      ],
      "text/plain": [
       "<IPython.core.display.HTML object>"
      ]
     },
     "metadata": {},
     "output_type": "display_data"
    },
    {
     "name": "stdout",
     "output_type": "stream",
     "text": [
      "For dead, 301 samples.\n"
     ]
    },
    {
     "data": {
      "text/html": [
       "<div class=\"zoom\"><img style='width: 100px; height: 100px; margin: 1px; float: left; border: 0px solid black;'title=https://www.inaturalist.org/observations/97070117 src='https://inaturalist-open-data.s3.amazonaws.com/photos/161350797/medium.jpeg'/></div><div class=\"zoom\"><img style='width: 100px; height: 100px; margin: 1px; float: left; border: 0px solid black;'title=https://www.inaturalist.org/observations/93240068 src='https://inaturalist-open-data.s3.amazonaws.com/photos/154509453/medium.jpg'/></div><div class=\"zoom\"><img style='width: 100px; height: 100px; margin: 1px; float: left; border: 0px solid black;'title=https://www.inaturalist.org/observations/108491792 src='https://static.inaturalist.org/photos/182674484/medium.jpg'/></div><div class=\"zoom\"><img style='width: 100px; height: 100px; margin: 1px; float: left; border: 0px solid black;'title=https://www.inaturalist.org/observations/75734094 src='https://inaturalist-open-data.s3.amazonaws.com/photos/123935843/medium.jpg'/></div><div class=\"zoom\"><img style='width: 100px; height: 100px; margin: 1px; float: left; border: 0px solid black;'title=https://www.inaturalist.org/observations/97282616 src='https://static.inaturalist.org/photos/161758130/medium.jpeg'/></div><div class=\"zoom\"><img style='width: 100px; height: 100px; margin: 1px; float: left; border: 0px solid black;'title=https://www.inaturalist.org/observations/103949273 src='https://inaturalist-open-data.s3.amazonaws.com/photos/174109916/medium.jpeg'/></div><div class=\"zoom\"><img style='width: 100px; height: 100px; margin: 1px; float: left; border: 0px solid black;'title=https://www.inaturalist.org/observations/99861260 src='https://static.inaturalist.org/photos/166564987/medium.jpeg'/></div><div class=\"zoom\"><img style='width: 100px; height: 100px; margin: 1px; float: left; border: 0px solid black;'title=https://www.inaturalist.org/observations/96263318 src='https://inaturalist-open-data.s3.amazonaws.com/photos/159899080/medium.jpeg'/></div><div class=\"zoom\"><img style='width: 100px; height: 100px; margin: 1px; float: left; border: 0px solid black;'title=https://www.inaturalist.org/observations/78983256 src='https://inaturalist-open-data.s3.amazonaws.com/photos/129320683/medium.jpeg'/></div><div class=\"zoom\"><img style='width: 100px; height: 100px; margin: 1px; float: left; border: 0px solid black;'title=https://www.inaturalist.org/observations/74429632 src='https://inaturalist-open-data.s3.amazonaws.com/photos/121641432/medium.jpeg'/></div><div class=\"zoom\"><img style='width: 100px; height: 100px; margin: 1px; float: left; border: 0px solid black;'title=https://www.inaturalist.org/observations/93247678 src='https://inaturalist-open-data.s3.amazonaws.com/photos/155442832/medium.jpeg'/></div><div class=\"zoom\"><img style='width: 100px; height: 100px; margin: 1px; float: left; border: 0px solid black;'title=https://www.inaturalist.org/observations/94905941 src='https://inaturalist-open-data.s3.amazonaws.com/photos/157491116/medium.jpg'/></div><div class=\"zoom\"><img style='width: 100px; height: 100px; margin: 1px; float: left; border: 0px solid black;'title=https://www.inaturalist.org/observations/78698227 src='https://inaturalist-open-data.s3.amazonaws.com/photos/128825236/medium.jpeg'/></div><div class=\"zoom\"><img style='width: 100px; height: 100px; margin: 1px; float: left; border: 0px solid black;'title=https://www.inaturalist.org/observations/97189716 src='https://static.inaturalist.org/photos/161584610/medium.jpeg'/></div><div class=\"zoom\"><img style='width: 100px; height: 100px; margin: 1px; float: left; border: 0px solid black;'title=https://www.inaturalist.org/observations/91981004 src='https://static.inaturalist.org/photos/152224946/medium.jpg'/></div><div class=\"zoom\"><img style='width: 100px; height: 100px; margin: 1px; float: left; border: 0px solid black;'title=https://www.inaturalist.org/observations/106764770 src='https://inaturalist-open-data.s3.amazonaws.com/photos/179424790/medium.jpeg'/></div>"
      ],
      "text/plain": [
       "<IPython.core.display.HTML object>"
      ]
     },
     "metadata": {},
     "output_type": "display_data"
    }
   ],
   "source": [
    "for word in unique_filter_words:\n",
    "    df_word = frogs_df[(frogs_df['description'].str.lower().str.contains(word))]\n",
    "    print(f\"For {word}, {len(df_word)} samples.\")\n",
    "    visualize_images_from_df(df_word, 16)"
   ]
  },
  {
   "cell_type": "markdown",
   "id": "844aaa88",
   "metadata": {},
   "source": [
    "We then remove the samples with these keywords in their descriptions."
   ]
  },
  {
   "cell_type": "code",
   "execution_count": 10,
   "id": "80ad24f2",
   "metadata": {},
   "outputs": [
    {
     "name": "stdout",
     "output_type": "stream",
     "text": [
      "Number after removing: 20898\n"
     ]
    }
   ],
   "source": [
    "frogs_df = frogs_df[~(frogs_df['description'].str.lower().isin(unique_filter_words))]\n",
    "print(\"Number after removing:\", len(frogs_df))\n"
   ]
  },
  {
   "cell_type": "markdown",
   "id": "fd701a52",
   "metadata": {},
   "source": [
    "## Filtering by classes\n",
    "The dataset of frogs is collected by people from different timezones (as a proxy for location) and contains different species. There are also several other markers of quality. In this section, we use these categorical variables to examine the dataset and accordingly apply filters."
   ]
  },
  {
   "cell_type": "markdown",
   "id": "b6a7ebfe",
   "metadata": {},
   "source": [
    "Here, we look at the distribution of categorical values for the given columns."
   ]
  },
  {
   "cell_type": "code",
   "execution_count": 11,
   "id": "d4184b5f",
   "metadata": {},
   "outputs": [
    {
     "name": "stdout",
     "output_type": "stream",
     "text": [
      "American Toad                 1328\n",
      "American Bullfrog             1189\n",
      "Green Frog                    1097\n",
      "Gulf Coast Toad                897\n",
      "Green Treefrog                 649\n",
      "European Common Frog           559\n",
      "European Toad                  542\n",
      "Wood Frog                      529\n",
      "Western Leopard Toad           496\n",
      "Northern Leopard Frog          463\n",
      "Spring Peeper                  390\n",
      "Cuban Tree Frog                379\n",
      "Gray Treefrog                  371\n",
      "Northern Pacific Tree Frog     358\n",
      "Western Toad                   355\n",
      "Gray Treefrog Complex          290\n",
      "Southern Toad                  277\n",
      "Cane Toad                      265\n",
      "Asian Common Toad              260\n",
      "Southern Leopard Frog          248\n",
      "Pickerel Frog                  242\n",
      "Blanchard's Cricket Frog       239\n",
      "Fowler's Toad                  195\n",
      "Squirrel Tree Frog             194\n",
      "Sierran Tree Frog              194\n",
      "Giant Toad                     192\n",
      "Clicking Stream Frog           190\n",
      "Woodhouse's Toad               189\n",
      "Australian Green Tree Frog     187\n",
      "Cope's Gray Treefrog           184\n",
      "Southern Cricket Frog          174\n",
      "Name: common_name, dtype: int64\n",
      "31 categories above threshold. Total is 13122\n",
      "Eastern Time (US & Canada)     5956\n",
      "Central Time (US & Canada)     2891\n",
      "UTC                            2688\n",
      "Pacific Time (US & Canada)     1911\n",
      "Pretoria                       1338\n",
      "Brisbane                        617\n",
      "Mountain Time (US & Canada)     607\n",
      "Sydney                          399\n",
      "Rome                            340\n",
      "Paris                           333\n",
      "Hawaii                          327\n",
      "Atlantic Time (Canada)          234\n",
      "Jakarta                         219\n",
      "Mexico City                     208\n",
      "Taipei                          190\n",
      "Bogota                          188\n",
      "Brasilia                        159\n",
      "Name: time_zone, dtype: int64\n",
      "17 categories above threshold. Total is 18605\n"
     ]
    }
   ],
   "source": [
    "count_threshold = 150\n",
    "column_names = [\"common_name\", \"time_zone\"]\n",
    "\n",
    "for column in column_names:\n",
    "    groupby_plot_hist(frogs_df, column, count_threshold = count_threshold)"
   ]
  },
  {
   "cell_type": "markdown",
   "id": "543c609c",
   "metadata": {},
   "source": [
    "We note that there are several classes with extremely low representation (e.g. some even as few as 10). So we set a threshold and remove these underrepresented samples."
   ]
  },
  {
   "cell_type": "code",
   "execution_count": 12,
   "id": "205b9c77",
   "metadata": {},
   "outputs": [
    {
     "name": "stdout",
     "output_type": "stream",
     "text": [
      "After filtering, left with 11517 samples.\n",
      "American Toad                 1309\n",
      "American Bullfrog             1138\n",
      "Green Frog                    1085\n",
      "Gulf Coast Toad                883\n",
      "Green Treefrog                 642\n",
      "Wood Frog                      506\n",
      "Western Leopard Toad           478\n",
      "Northern Leopard Frog          452\n",
      "Spring Peeper                  388\n",
      "Gray Treefrog                  369\n",
      "Cuban Tree Frog                369\n",
      "Northern Pacific Tree Frog     353\n",
      "Western Toad                   346\n",
      "European Common Frog           321\n",
      "European Toad                  299\n",
      "Gray Treefrog Complex          287\n",
      "Southern Toad                  274\n",
      "Southern Leopard Frog          244\n",
      "Pickerel Frog                  240\n",
      "Blanchard's Cricket Frog       236\n",
      "Fowler's Toad                  195\n",
      "Sierran Tree Frog              193\n",
      "Squirrel Tree Frog             191\n",
      "Woodhouse's Toad               183\n",
      "Cope's Gray Treefrog           182\n",
      "Clicking Stream Frog           181\n",
      "Southern Cricket Frog          173\n",
      "Name: common_name, dtype: int64\n",
      "27 categories above threshold. Total is 11517\n",
      "Eastern Time (US & Canada)     5221\n",
      "Central Time (US & Canada)     2273\n",
      "UTC                            1310\n",
      "Pacific Time (US & Canada)     1093\n",
      "Pretoria                        719\n",
      "Mountain Time (US & Canada)     333\n",
      "Paris                           196\n",
      "Atlantic Time (Canada)          188\n",
      "Rome                            184\n",
      "Name: time_zone, dtype: int64\n",
      "9 categories above threshold. Total is 11517\n"
     ]
    }
   ],
   "source": [
    "frogs_df = filter_by_threshold_counts(frogs_df, column_names, count_threshold)\n",
    "for column in column_names:\n",
    "    groupby_plot_hist(frogs_df, column, count_threshold = count_threshold)"
   ]
  },
  {
   "cell_type": "markdown",
   "id": "66b08528",
   "metadata": {},
   "source": [
    "## Saving\n",
    "We are now done cleaning our dataset. After a final check with a visualization, we save the files."
   ]
  },
  {
   "cell_type": "code",
   "execution_count": 13,
   "id": "9d860610",
   "metadata": {
    "scrolled": false
   },
   "outputs": [
    {
     "data": {
      "text/html": [
       "<div class=\"zoom\"><img style='width: 100px; height: 100px; margin: 1px; float: left; border: 0px solid black;'title=https://www.inaturalist.org/observations/98076693 src='https://static.inaturalist.org/photos/163222804/medium.jpg'/></div><div class=\"zoom\"><img style='width: 100px; height: 100px; margin: 1px; float: left; border: 0px solid black;'title=https://www.inaturalist.org/observations/78286941 src='https://inaturalist-open-data.s3.amazonaws.com/photos/128100955/medium.jpeg'/></div><div class=\"zoom\"><img style='width: 100px; height: 100px; margin: 1px; float: left; border: 0px solid black;'title=https://www.inaturalist.org/observations/88211539 src='https://inaturalist-open-data.s3.amazonaws.com/photos/145514525/medium.png'/></div><div class=\"zoom\"><img style='width: 100px; height: 100px; margin: 1px; float: left; border: 0px solid black;'title=https://www.inaturalist.org/observations/78735483 src='https://inaturalist-open-data.s3.amazonaws.com/photos/128889832/medium.jpeg'/></div><div class=\"zoom\"><img style='width: 100px; height: 100px; margin: 1px; float: left; border: 0px solid black;'title=https://www.inaturalist.org/observations/98982772 src='https://inaturalist-open-data.s3.amazonaws.com/photos/164917237/medium.jpeg'/></div><div class=\"zoom\"><img style='width: 100px; height: 100px; margin: 1px; float: left; border: 0px solid black;'title=https://www.inaturalist.org/observations/90392978 src='https://inaturalist-open-data.s3.amazonaws.com/photos/149413775/medium.jpeg'/></div><div class=\"zoom\"><img style='width: 100px; height: 100px; margin: 1px; float: left; border: 0px solid black;'title=https://www.inaturalist.org/observations/88310660 src='https://inaturalist-open-data.s3.amazonaws.com/photos/145690233/medium.jpg'/></div><div class=\"zoom\"><img style='width: 100px; height: 100px; margin: 1px; float: left; border: 0px solid black;'title=https://www.inaturalist.org/observations/80147714 src='https://inaturalist-open-data.s3.amazonaws.com/photos/131336295/medium.jpg'/></div><div class=\"zoom\"><img style='width: 100px; height: 100px; margin: 1px; float: left; border: 0px solid black;'title=https://www.inaturalist.org/observations/108682503 src='https://inaturalist-open-data.s3.amazonaws.com/photos/183029104/medium.jpeg'/></div><div class=\"zoom\"><img style='width: 100px; height: 100px; margin: 1px; float: left; border: 0px solid black;'title=https://www.inaturalist.org/observations/98303579 src='https://inaturalist-open-data.s3.amazonaws.com/photos/163635586/medium.jpg'/></div><div class=\"zoom\"><img style='width: 100px; height: 100px; margin: 1px; float: left; border: 0px solid black;'title=https://www.inaturalist.org/observations/87942440 src='https://static.inaturalist.org/photos/145040929/medium.jpeg'/></div><div class=\"zoom\"><img style='width: 100px; height: 100px; margin: 1px; float: left; border: 0px solid black;'title=https://www.inaturalist.org/observations/99412150 src='https://inaturalist-open-data.s3.amazonaws.com/photos/165711841/medium.jpeg'/></div><div class=\"zoom\"><img style='width: 100px; height: 100px; margin: 1px; float: left; border: 0px solid black;'title=https://www.inaturalist.org/observations/80173637 src='https://inaturalist-open-data.s3.amazonaws.com/photos/131379872/medium.jpeg'/></div><div class=\"zoom\"><img style='width: 100px; height: 100px; margin: 1px; float: left; border: 0px solid black;'title=https://www.inaturalist.org/observations/98129739 src='https://static.inaturalist.org/photos/163319037/medium.jpeg'/></div><div class=\"zoom\"><img style='width: 100px; height: 100px; margin: 1px; float: left; border: 0px solid black;'title=https://www.inaturalist.org/observations/85612088 src='https://static.inaturalist.org/photos/140889617/medium.jpeg'/></div><div class=\"zoom\"><img style='width: 100px; height: 100px; margin: 1px; float: left; border: 0px solid black;'title=https://www.inaturalist.org/observations/89276971 src='https://inaturalist-open-data.s3.amazonaws.com/photos/147413498/medium.jpg'/></div><div class=\"zoom\"><img style='width: 100px; height: 100px; margin: 1px; float: left; border: 0px solid black;'title=https://www.inaturalist.org/observations/83430003 src='https://static.inaturalist.org/photos/137021338/medium.jpg'/></div><div class=\"zoom\"><img style='width: 100px; height: 100px; margin: 1px; float: left; border: 0px solid black;'title=https://www.inaturalist.org/observations/84776383 src='https://inaturalist-open-data.s3.amazonaws.com/photos/139375067/medium.jpg'/></div><div class=\"zoom\"><img style='width: 100px; height: 100px; margin: 1px; float: left; border: 0px solid black;'title=https://www.inaturalist.org/observations/102624538 src='https://inaturalist-open-data.s3.amazonaws.com/photos/171593341/medium.jpeg'/></div><div class=\"zoom\"><img style='width: 100px; height: 100px; margin: 1px; float: left; border: 0px solid black;'title=https://www.inaturalist.org/observations/77708505 src='https://inaturalist-open-data.s3.amazonaws.com/photos/127110811/medium.jpg'/></div><div class=\"zoom\"><img style='width: 100px; height: 100px; margin: 1px; float: left; border: 0px solid black;'title=https://www.inaturalist.org/observations/96429738 src='https://inaturalist-open-data.s3.amazonaws.com/photos/160200553/medium.jpeg'/></div><div class=\"zoom\"><img style='width: 100px; height: 100px; margin: 1px; float: left; border: 0px solid black;'title=https://www.inaturalist.org/observations/87566709 src='https://inaturalist-open-data.s3.amazonaws.com/photos/144385513/medium.jpeg'/></div><div class=\"zoom\"><img style='width: 100px; height: 100px; margin: 1px; float: left; border: 0px solid black;'title=https://www.inaturalist.org/observations/86743318 src='https://inaturalist-open-data.s3.amazonaws.com/photos/142950272/medium.jpeg'/></div><div class=\"zoom\"><img style='width: 100px; height: 100px; margin: 1px; float: left; border: 0px solid black;'title=https://www.inaturalist.org/observations/92032492 src='https://static.inaturalist.org/photos/152317326/medium.jpeg'/></div><div class=\"zoom\"><img style='width: 100px; height: 100px; margin: 1px; float: left; border: 0px solid black;'title=https://www.inaturalist.org/observations/94490434 src='https://inaturalist-open-data.s3.amazonaws.com/photos/156749232/medium.jpg'/></div><div class=\"zoom\"><img style='width: 100px; height: 100px; margin: 1px; float: left; border: 0px solid black;'title=https://www.inaturalist.org/observations/83450628 src='https://inaturalist-open-data.s3.amazonaws.com/photos/137067314/medium.jpg'/></div><div class=\"zoom\"><img style='width: 100px; height: 100px; margin: 1px; float: left; border: 0px solid black;'title=https://www.inaturalist.org/observations/93228475 src='https://inaturalist-open-data.s3.amazonaws.com/photos/154488226/medium.jpeg'/></div><div class=\"zoom\"><img style='width: 100px; height: 100px; margin: 1px; float: left; border: 0px solid black;'title=https://www.inaturalist.org/observations/84262369 src='https://static.inaturalist.org/photos/138473475/medium.jpg'/></div><div class=\"zoom\"><img style='width: 100px; height: 100px; margin: 1px; float: left; border: 0px solid black;'title=https://www.inaturalist.org/observations/89112667 src='https://inaturalist-open-data.s3.amazonaws.com/photos/147117483/medium.jpeg'/></div><div class=\"zoom\"><img style='width: 100px; height: 100px; margin: 1px; float: left; border: 0px solid black;'title=https://www.inaturalist.org/observations/85530347 src='https://static.inaturalist.org/photos/140737970/medium.jpeg'/></div><div class=\"zoom\"><img style='width: 100px; height: 100px; margin: 1px; float: left; border: 0px solid black;'title=https://www.inaturalist.org/observations/97585375 src='https://inaturalist-open-data.s3.amazonaws.com/photos/162316762/medium.jpg'/></div><div class=\"zoom\"><img style='width: 100px; height: 100px; margin: 1px; float: left; border: 0px solid black;'title=https://www.inaturalist.org/observations/108767950 src='https://inaturalist-open-data.s3.amazonaws.com/photos/183194982/medium.jpg'/></div><div class=\"zoom\"><img style='width: 100px; height: 100px; margin: 1px; float: left; border: 0px solid black;'title=https://www.inaturalist.org/observations/92805575 src='https://inaturalist-open-data.s3.amazonaws.com/photos/153724515/medium.jpeg'/></div><div class=\"zoom\"><img style='width: 100px; height: 100px; margin: 1px; float: left; border: 0px solid black;'title=https://www.inaturalist.org/observations/99952018 src='https://inaturalist-open-data.s3.amazonaws.com/photos/166739053/medium.jpeg'/></div><div class=\"zoom\"><img style='width: 100px; height: 100px; margin: 1px; float: left; border: 0px solid black;'title=https://www.inaturalist.org/observations/96986095 src='https://inaturalist-open-data.s3.amazonaws.com/photos/161204466/medium.jpeg'/></div><div class=\"zoom\"><img style='width: 100px; height: 100px; margin: 1px; float: left; border: 0px solid black;'title=https://www.inaturalist.org/observations/75536657 src='https://inaturalist-open-data.s3.amazonaws.com/photos/123595054/medium.jpeg'/></div><div class=\"zoom\"><img style='width: 100px; height: 100px; margin: 1px; float: left; border: 0px solid black;'title=https://www.inaturalist.org/observations/97570375 src='https://inaturalist-open-data.s3.amazonaws.com/photos/162287222/medium.jpg'/></div><div class=\"zoom\"><img style='width: 100px; height: 100px; margin: 1px; float: left; border: 0px solid black;'title=https://www.inaturalist.org/observations/88114293 src='https://inaturalist-open-data.s3.amazonaws.com/photos/145346710/medium.jpg'/></div><div class=\"zoom\"><img style='width: 100px; height: 100px; margin: 1px; float: left; border: 0px solid black;'title=https://www.inaturalist.org/observations/78796232 src='https://inaturalist-open-data.s3.amazonaws.com/photos/128999589/medium.jpg'/></div><div class=\"zoom\"><img style='width: 100px; height: 100px; margin: 1px; float: left; border: 0px solid black;'title=https://www.inaturalist.org/observations/97856800 src='https://static.inaturalist.org/photos/162814899/medium.jpeg'/></div><div class=\"zoom\"><img style='width: 100px; height: 100px; margin: 1px; float: left; border: 0px solid black;'title=https://www.inaturalist.org/observations/101364915 src='https://static.inaturalist.org/photos/169275397/medium.jpeg'/></div><div class=\"zoom\"><img style='width: 100px; height: 100px; margin: 1px; float: left; border: 0px solid black;'title=https://www.inaturalist.org/observations/93655963 src='https://inaturalist-open-data.s3.amazonaws.com/photos/155254994/medium.jpg'/></div><div class=\"zoom\"><img style='width: 100px; height: 100px; margin: 1px; float: left; border: 0px solid black;'title=https://www.inaturalist.org/observations/79225548 src='https://static.inaturalist.org/photos/129745680/medium.jpg'/></div><div class=\"zoom\"><img style='width: 100px; height: 100px; margin: 1px; float: left; border: 0px solid black;'title=https://www.inaturalist.org/observations/81807796 src='https://inaturalist-open-data.s3.amazonaws.com/photos/134206305/medium.jpg'/></div><div class=\"zoom\"><img style='width: 100px; height: 100px; margin: 1px; float: left; border: 0px solid black;'title=https://www.inaturalist.org/observations/87901486 src='https://static.inaturalist.org/photos/144973279/medium.jpg'/></div><div class=\"zoom\"><img style='width: 100px; height: 100px; margin: 1px; float: left; border: 0px solid black;'title=https://www.inaturalist.org/observations/100271398 src='https://inaturalist-open-data.s3.amazonaws.com/photos/167332880/medium.jpg'/></div><div class=\"zoom\"><img style='width: 100px; height: 100px; margin: 1px; float: left; border: 0px solid black;'title=https://www.inaturalist.org/observations/74664286 src='https://inaturalist-open-data.s3.amazonaws.com/photos/122054015/medium.jpeg'/></div><div class=\"zoom\"><img style='width: 100px; height: 100px; margin: 1px; float: left; border: 0px solid black;'title=https://www.inaturalist.org/observations/84888589 src='https://static.inaturalist.org/photos/139578739/medium.jpeg'/></div><div class=\"zoom\"><img style='width: 100px; height: 100px; margin: 1px; float: left; border: 0px solid black;'title=https://www.inaturalist.org/observations/102805802 src='https://inaturalist-open-data.s3.amazonaws.com/photos/171934269/medium.jpeg'/></div><div class=\"zoom\"><img style='width: 100px; height: 100px; margin: 1px; float: left; border: 0px solid black;'title=https://www.inaturalist.org/observations/100489102 src='https://inaturalist-open-data.s3.amazonaws.com/photos/167725718/medium.jpeg'/></div><div class=\"zoom\"><img style='width: 100px; height: 100px; margin: 1px; float: left; border: 0px solid black;'title=https://www.inaturalist.org/observations/78489051 src='https://static.inaturalist.org/photos/128457438/medium.jpeg'/></div><div class=\"zoom\"><img style='width: 100px; height: 100px; margin: 1px; float: left; border: 0px solid black;'title=https://www.inaturalist.org/observations/96561600 src='https://inaturalist-open-data.s3.amazonaws.com/photos/160438048/medium.jpeg'/></div><div class=\"zoom\"><img style='width: 100px; height: 100px; margin: 1px; float: left; border: 0px solid black;'title=https://www.inaturalist.org/observations/85466436 src='https://static.inaturalist.org/photos/140624468/medium.jpeg'/></div><div class=\"zoom\"><img style='width: 100px; height: 100px; margin: 1px; float: left; border: 0px solid black;'title=https://www.inaturalist.org/observations/90814953 src='https://inaturalist-open-data.s3.amazonaws.com/photos/150121650/medium.jpeg'/></div><div class=\"zoom\"><img style='width: 100px; height: 100px; margin: 1px; float: left; border: 0px solid black;'title=https://www.inaturalist.org/observations/108278779 src='https://inaturalist-open-data.s3.amazonaws.com/photos/182277554/medium.jpeg'/></div><div class=\"zoom\"><img style='width: 100px; height: 100px; margin: 1px; float: left; border: 0px solid black;'title=https://www.inaturalist.org/observations/94260824 src='https://static.inaturalist.org/photos/156331760/medium.jpg'/></div><div class=\"zoom\"><img style='width: 100px; height: 100px; margin: 1px; float: left; border: 0px solid black;'title=https://www.inaturalist.org/observations/101936138 src='https://inaturalist-open-data.s3.amazonaws.com/photos/170304274/medium.jpeg'/></div><div class=\"zoom\"><img style='width: 100px; height: 100px; margin: 1px; float: left; border: 0px solid black;'title=https://www.inaturalist.org/observations/81812229 src='https://static.inaturalist.org/photos/134214348/medium.jpg'/></div><div class=\"zoom\"><img style='width: 100px; height: 100px; margin: 1px; float: left; border: 0px solid black;'title=https://www.inaturalist.org/observations/93209834 src='https://inaturalist-open-data.s3.amazonaws.com/photos/154453108/medium.jpeg'/></div><div class=\"zoom\"><img style='width: 100px; height: 100px; margin: 1px; float: left; border: 0px solid black;'title=https://www.inaturalist.org/observations/79149985 src='https://inaturalist-open-data.s3.amazonaws.com/photos/129611930/medium.jpeg'/></div><div class=\"zoom\"><img style='width: 100px; height: 100px; margin: 1px; float: left; border: 0px solid black;'title=https://www.inaturalist.org/observations/100934653 src='https://inaturalist-open-data.s3.amazonaws.com/photos/168510316/medium.jpg'/></div><div class=\"zoom\"><img style='width: 100px; height: 100px; margin: 1px; float: left; border: 0px solid black;'title=https://www.inaturalist.org/observations/79415617 src='https://inaturalist-open-data.s3.amazonaws.com/photos/130065899/medium.jpeg'/></div><div class=\"zoom\"><img style='width: 100px; height: 100px; margin: 1px; float: left; border: 0px solid black;'title=https://www.inaturalist.org/observations/93247678 src='https://inaturalist-open-data.s3.amazonaws.com/photos/155442832/medium.jpeg'/></div><div class=\"zoom\"><img style='width: 100px; height: 100px; margin: 1px; float: left; border: 0px solid black;'title=https://www.inaturalist.org/observations/84625874 src='https://inaturalist-open-data.s3.amazonaws.com/photos/139106269/medium.jpg'/></div>"
      ],
      "text/plain": [
       "<IPython.core.display.HTML object>"
      ]
     },
     "metadata": {},
     "output_type": "display_data"
    }
   ],
   "source": [
    "visualize_images_from_df(frogs_df, 64)"
   ]
  },
  {
   "cell_type": "markdown",
   "id": "7b12a056",
   "metadata": {},
   "source": [
    "### Save indices"
   ]
  },
  {
   "cell_type": "code",
   "execution_count": 14,
   "id": "54359718",
   "metadata": {},
   "outputs": [
    {
     "data": {
      "text/html": [
       "<div>\n",
       "<style scoped>\n",
       "    .dataframe tbody tr th:only-of-type {\n",
       "        vertical-align: middle;\n",
       "    }\n",
       "\n",
       "    .dataframe tbody tr th {\n",
       "        vertical-align: top;\n",
       "    }\n",
       "\n",
       "    .dataframe thead th {\n",
       "        text-align: right;\n",
       "    }\n",
       "</style>\n",
       "<table border=\"1\" class=\"dataframe\">\n",
       "  <thead>\n",
       "    <tr style=\"text-align: right;\">\n",
       "      <th></th>\n",
       "      <th>id</th>\n",
       "      <th>observed_on_string</th>\n",
       "      <th>observed_on</th>\n",
       "      <th>time_observed_at</th>\n",
       "      <th>time_zone</th>\n",
       "      <th>user_id</th>\n",
       "      <th>user_login</th>\n",
       "      <th>created_at</th>\n",
       "      <th>updated_at</th>\n",
       "      <th>quality_grade</th>\n",
       "      <th>...</th>\n",
       "      <th>geoprivacy</th>\n",
       "      <th>taxon_geoprivacy</th>\n",
       "      <th>coordinates_obscured</th>\n",
       "      <th>positioning_method</th>\n",
       "      <th>positioning_device</th>\n",
       "      <th>species_guess</th>\n",
       "      <th>scientific_name</th>\n",
       "      <th>common_name</th>\n",
       "      <th>iconic_taxon_name</th>\n",
       "      <th>taxon_id</th>\n",
       "    </tr>\n",
       "  </thead>\n",
       "  <tbody>\n",
       "    <tr>\n",
       "      <th>0</th>\n",
       "      <td>74049910</td>\n",
       "      <td>Thu Apr 15 2021 11:00:16 GMT-0400 (EDT)</td>\n",
       "      <td>2021-04-15</td>\n",
       "      <td>2021-04-15 15:00:16 UTC</td>\n",
       "      <td>Eastern Time (US &amp; Canada)</td>\n",
       "      <td>3435284</td>\n",
       "      <td>jprice12</td>\n",
       "      <td>2021-04-15 15:43:21 UTC</td>\n",
       "      <td>2021-04-17 19:39:18 UTC</td>\n",
       "      <td>research</td>\n",
       "      <td>...</td>\n",
       "      <td>NaN</td>\n",
       "      <td>NaN</td>\n",
       "      <td>False</td>\n",
       "      <td>NaN</td>\n",
       "      <td>NaN</td>\n",
       "      <td>Green Frog</td>\n",
       "      <td>Lithobates clamitans</td>\n",
       "      <td>Green Frog</td>\n",
       "      <td>Amphibia</td>\n",
       "      <td>65982</td>\n",
       "    </tr>\n",
       "    <tr>\n",
       "      <th>1</th>\n",
       "      <td>74050194</td>\n",
       "      <td>Thu Apr 15 2021 10:59:16 GMT-0400 (EDT)</td>\n",
       "      <td>2021-04-15</td>\n",
       "      <td>2021-04-15 14:59:16 UTC</td>\n",
       "      <td>Eastern Time (US &amp; Canada)</td>\n",
       "      <td>3435284</td>\n",
       "      <td>jprice12</td>\n",
       "      <td>2021-04-15 15:46:21 UTC</td>\n",
       "      <td>2021-04-17 19:39:11 UTC</td>\n",
       "      <td>research</td>\n",
       "      <td>...</td>\n",
       "      <td>NaN</td>\n",
       "      <td>NaN</td>\n",
       "      <td>False</td>\n",
       "      <td>NaN</td>\n",
       "      <td>NaN</td>\n",
       "      <td>Wood Frog</td>\n",
       "      <td>Lithobates sylvaticus</td>\n",
       "      <td>Wood Frog</td>\n",
       "      <td>Amphibia</td>\n",
       "      <td>66012</td>\n",
       "    </tr>\n",
       "    <tr>\n",
       "      <th>2</th>\n",
       "      <td>74064526</td>\n",
       "      <td>Thu Apr 15 2021 13:18:00 GMT-0500 (CDT)</td>\n",
       "      <td>2021-04-15</td>\n",
       "      <td>2021-04-15 18:18:00 UTC</td>\n",
       "      <td>Central Time (US &amp; Canada)</td>\n",
       "      <td>2494733</td>\n",
       "      <td>chelsea_ellen</td>\n",
       "      <td>2021-04-15 18:31:17 UTC</td>\n",
       "      <td>2021-04-26 04:27:16 UTC</td>\n",
       "      <td>research</td>\n",
       "      <td>...</td>\n",
       "      <td>NaN</td>\n",
       "      <td>open</td>\n",
       "      <td>False</td>\n",
       "      <td>NaN</td>\n",
       "      <td>NaN</td>\n",
       "      <td>Gulf Coast Toad</td>\n",
       "      <td>Incilius nebulifer</td>\n",
       "      <td>Gulf Coast Toad</td>\n",
       "      <td>Amphibia</td>\n",
       "      <td>65849</td>\n",
       "    </tr>\n",
       "    <tr>\n",
       "      <th>3</th>\n",
       "      <td>74072407</td>\n",
       "      <td>2021/04/15 11:24 AM CDT</td>\n",
       "      <td>2021-04-15</td>\n",
       "      <td>2021-04-15 16:24:00 UTC</td>\n",
       "      <td>Central Time (US &amp; Canada)</td>\n",
       "      <td>3113294</td>\n",
       "      <td>chdphoto</td>\n",
       "      <td>2021-04-15 19:55:39 UTC</td>\n",
       "      <td>2021-04-15 20:50:48 UTC</td>\n",
       "      <td>research</td>\n",
       "      <td>...</td>\n",
       "      <td>NaN</td>\n",
       "      <td>NaN</td>\n",
       "      <td>False</td>\n",
       "      <td>NaN</td>\n",
       "      <td>NaN</td>\n",
       "      <td>Green Frog</td>\n",
       "      <td>Lithobates clamitans</td>\n",
       "      <td>Green Frog</td>\n",
       "      <td>Amphibia</td>\n",
       "      <td>65982</td>\n",
       "    </tr>\n",
       "    <tr>\n",
       "      <th>4</th>\n",
       "      <td>74072408</td>\n",
       "      <td>2021/04/15 11:25 AM CDT</td>\n",
       "      <td>2021-04-15</td>\n",
       "      <td>2021-04-15 16:25:00 UTC</td>\n",
       "      <td>Central Time (US &amp; Canada)</td>\n",
       "      <td>3113294</td>\n",
       "      <td>chdphoto</td>\n",
       "      <td>2021-04-15 19:55:40 UTC</td>\n",
       "      <td>2021-04-15 23:56:14 UTC</td>\n",
       "      <td>research</td>\n",
       "      <td>...</td>\n",
       "      <td>NaN</td>\n",
       "      <td>NaN</td>\n",
       "      <td>False</td>\n",
       "      <td>NaN</td>\n",
       "      <td>NaN</td>\n",
       "      <td>Green Frog</td>\n",
       "      <td>Lithobates clamitans</td>\n",
       "      <td>Green Frog</td>\n",
       "      <td>Amphibia</td>\n",
       "      <td>65982</td>\n",
       "    </tr>\n",
       "  </tbody>\n",
       "</table>\n",
       "<p>5 rows × 38 columns</p>\n",
       "</div>"
      ],
      "text/plain": [
       "         id                       observed_on_string observed_on  \\\n",
       "0  74049910  Thu Apr 15 2021 11:00:16 GMT-0400 (EDT)  2021-04-15   \n",
       "1  74050194  Thu Apr 15 2021 10:59:16 GMT-0400 (EDT)  2021-04-15   \n",
       "2  74064526  Thu Apr 15 2021 13:18:00 GMT-0500 (CDT)  2021-04-15   \n",
       "3  74072407                  2021/04/15 11:24 AM CDT  2021-04-15   \n",
       "4  74072408                  2021/04/15 11:25 AM CDT  2021-04-15   \n",
       "\n",
       "          time_observed_at                   time_zone  user_id  \\\n",
       "0  2021-04-15 15:00:16 UTC  Eastern Time (US & Canada)  3435284   \n",
       "1  2021-04-15 14:59:16 UTC  Eastern Time (US & Canada)  3435284   \n",
       "2  2021-04-15 18:18:00 UTC  Central Time (US & Canada)  2494733   \n",
       "3  2021-04-15 16:24:00 UTC  Central Time (US & Canada)  3113294   \n",
       "4  2021-04-15 16:25:00 UTC  Central Time (US & Canada)  3113294   \n",
       "\n",
       "      user_login               created_at               updated_at  \\\n",
       "0       jprice12  2021-04-15 15:43:21 UTC  2021-04-17 19:39:18 UTC   \n",
       "1       jprice12  2021-04-15 15:46:21 UTC  2021-04-17 19:39:11 UTC   \n",
       "2  chelsea_ellen  2021-04-15 18:31:17 UTC  2021-04-26 04:27:16 UTC   \n",
       "3       chdphoto  2021-04-15 19:55:39 UTC  2021-04-15 20:50:48 UTC   \n",
       "4       chdphoto  2021-04-15 19:55:40 UTC  2021-04-15 23:56:14 UTC   \n",
       "\n",
       "  quality_grade  ... geoprivacy taxon_geoprivacy coordinates_obscured  \\\n",
       "0      research  ...        NaN              NaN                False   \n",
       "1      research  ...        NaN              NaN                False   \n",
       "2      research  ...        NaN             open                False   \n",
       "3      research  ...        NaN              NaN                False   \n",
       "4      research  ...        NaN              NaN                False   \n",
       "\n",
       "  positioning_method positioning_device    species_guess  \\\n",
       "0                NaN                NaN       Green Frog   \n",
       "1                NaN                NaN        Wood Frog   \n",
       "2                NaN                NaN  Gulf Coast Toad   \n",
       "3                NaN                NaN       Green Frog   \n",
       "4                NaN                NaN       Green Frog   \n",
       "\n",
       "         scientific_name      common_name  iconic_taxon_name  taxon_id  \n",
       "0   Lithobates clamitans       Green Frog           Amphibia     65982  \n",
       "1  Lithobates sylvaticus        Wood Frog           Amphibia     66012  \n",
       "2     Incilius nebulifer  Gulf Coast Toad           Amphibia     65849  \n",
       "3   Lithobates clamitans       Green Frog           Amphibia     65982  \n",
       "4   Lithobates clamitans       Green Frog           Amphibia     65982  \n",
       "\n",
       "[5 rows x 38 columns]"
      ]
     },
     "execution_count": 14,
     "metadata": {},
     "output_type": "execute_result"
    }
   ],
   "source": [
    "metadata_filename = 'frogs_filtered.csv'\n",
    "frogs_df.to_csv(metadata_filename, header = list(frogs_df.columns), sep=',', index = None)\n",
    "\n",
    "# sanity check\n",
    "loaded = pd.read_csv(metadata_filename, sep = \",\")\n",
    "loaded.head()\n"
   ]
  },
  {
   "cell_type": "code",
   "execution_count": 15,
   "id": "00b00a42",
   "metadata": {},
   "outputs": [
    {
     "data": {
      "text/html": [
       "<div>\n",
       "<style scoped>\n",
       "    .dataframe tbody tr th:only-of-type {\n",
       "        vertical-align: middle;\n",
       "    }\n",
       "\n",
       "    .dataframe tbody tr th {\n",
       "        vertical-align: top;\n",
       "    }\n",
       "\n",
       "    .dataframe thead th {\n",
       "        text-align: right;\n",
       "    }\n",
       "</style>\n",
       "<table border=\"1\" class=\"dataframe\">\n",
       "  <thead>\n",
       "    <tr style=\"text-align: right;\">\n",
       "      <th></th>\n",
       "      <th>id</th>\n",
       "      <th>image_url</th>\n",
       "    </tr>\n",
       "  </thead>\n",
       "  <tbody>\n",
       "    <tr>\n",
       "      <th>75</th>\n",
       "      <td>74049910</td>\n",
       "      <td>https://inaturalist-open-data.s3.amazonaws.com...</td>\n",
       "    </tr>\n",
       "    <tr>\n",
       "      <th>76</th>\n",
       "      <td>74050194</td>\n",
       "      <td>https://inaturalist-open-data.s3.amazonaws.com...</td>\n",
       "    </tr>\n",
       "    <tr>\n",
       "      <th>93</th>\n",
       "      <td>74064526</td>\n",
       "      <td>https://static.inaturalist.org/photos/12178992...</td>\n",
       "    </tr>\n",
       "    <tr>\n",
       "      <th>102</th>\n",
       "      <td>74072407</td>\n",
       "      <td>https://inaturalist-open-data.s3.amazonaws.com...</td>\n",
       "    </tr>\n",
       "    <tr>\n",
       "      <th>103</th>\n",
       "      <td>74072408</td>\n",
       "      <td>https://inaturalist-open-data.s3.amazonaws.com...</td>\n",
       "    </tr>\n",
       "  </tbody>\n",
       "</table>\n",
       "</div>"
      ],
      "text/plain": [
       "           id                                          image_url\n",
       "75   74049910  https://inaturalist-open-data.s3.amazonaws.com...\n",
       "76   74050194  https://inaturalist-open-data.s3.amazonaws.com...\n",
       "93   74064526  https://static.inaturalist.org/photos/12178992...\n",
       "102  74072407  https://inaturalist-open-data.s3.amazonaws.com...\n",
       "103  74072408  https://inaturalist-open-data.s3.amazonaws.com..."
      ]
     },
     "execution_count": 15,
     "metadata": {},
     "output_type": "execute_result"
    }
   ],
   "source": [
    "id_url_filename = \"frogs_id_url.txt\"\n",
    "frogs_id_url_df = frogs_df[['id', 'image_url']]\n",
    "frogs_id_url_df.to_csv(id_url_filename, header = ['id', 'image_url'], index = None, sep = \",\")\n",
    "frogs_id_url_df.head()"
   ]
  },
  {
   "cell_type": "markdown",
   "id": "4464d2ad",
   "metadata": {},
   "source": [
    "### Download"
   ]
  },
  {
   "cell_type": "code",
   "execution_count": 16,
   "id": "d2a881a1",
   "metadata": {},
   "outputs": [
    {
     "data": {
      "text/html": [
       "<div>\n",
       "<style scoped>\n",
       "    .dataframe tbody tr th:only-of-type {\n",
       "        vertical-align: middle;\n",
       "    }\n",
       "\n",
       "    .dataframe tbody tr th {\n",
       "        vertical-align: top;\n",
       "    }\n",
       "\n",
       "    .dataframe thead th {\n",
       "        text-align: right;\n",
       "    }\n",
       "</style>\n",
       "<table border=\"1\" class=\"dataframe\">\n",
       "  <thead>\n",
       "    <tr style=\"text-align: right;\">\n",
       "      <th></th>\n",
       "      <th>id</th>\n",
       "      <th>image_url</th>\n",
       "    </tr>\n",
       "  </thead>\n",
       "  <tbody>\n",
       "    <tr>\n",
       "      <th>0</th>\n",
       "      <td>74049910</td>\n",
       "      <td>https://inaturalist-open-data.s3.amazonaws.com...</td>\n",
       "    </tr>\n",
       "    <tr>\n",
       "      <th>1</th>\n",
       "      <td>74050194</td>\n",
       "      <td>https://inaturalist-open-data.s3.amazonaws.com...</td>\n",
       "    </tr>\n",
       "    <tr>\n",
       "      <th>2</th>\n",
       "      <td>74064526</td>\n",
       "      <td>https://static.inaturalist.org/photos/12178992...</td>\n",
       "    </tr>\n",
       "    <tr>\n",
       "      <th>3</th>\n",
       "      <td>74072407</td>\n",
       "      <td>https://inaturalist-open-data.s3.amazonaws.com...</td>\n",
       "    </tr>\n",
       "    <tr>\n",
       "      <th>4</th>\n",
       "      <td>74072408</td>\n",
       "      <td>https://inaturalist-open-data.s3.amazonaws.com...</td>\n",
       "    </tr>\n",
       "  </tbody>\n",
       "</table>\n",
       "</div>"
      ],
      "text/plain": [
       "         id                                          image_url\n",
       "0  74049910  https://inaturalist-open-data.s3.amazonaws.com...\n",
       "1  74050194  https://inaturalist-open-data.s3.amazonaws.com...\n",
       "2  74064526  https://static.inaturalist.org/photos/12178992...\n",
       "3  74072407  https://inaturalist-open-data.s3.amazonaws.com...\n",
       "4  74072408  https://inaturalist-open-data.s3.amazonaws.com..."
      ]
     },
     "execution_count": 16,
     "metadata": {},
     "output_type": "execute_result"
    }
   ],
   "source": [
    "frogs_id_url_df = pd.read_csv(id_url_filename, sep = \",\")\n",
    "frogs_id_url_df.head()"
   ]
  },
  {
   "cell_type": "code",
   "execution_count": 17,
   "id": "eb2eefd9",
   "metadata": {},
   "outputs": [
    {
     "name": "stdout",
     "output_type": "stream",
     "text": [
      "frogs_90113118.jpeg was downloaded..."
     ]
    }
   ],
   "source": [
    "save_path = os.getcwd() + \"/frog_images\"\n",
    "\n",
    "# save\n",
    "id_url_list = frogs_id_url_df.apply(lambda row : (row[\"id\"], row[\"image_url\"]), axis = 1).values\n",
    "for i in prange(len(id_url_list)):\n",
    "    id_url = id_url_list[i]\n",
    "    download_image(id_url, save_path)"
   ]
  },
  {
   "cell_type": "code",
   "execution_count": null,
   "id": "5f501abb",
   "metadata": {},
   "outputs": [],
   "source": []
  }
 ],
 "metadata": {
  "kernelspec": {
   "display_name": "Python 3 (ipykernel)",
   "language": "python",
   "name": "python3"
  },
  "language_info": {
   "codemirror_mode": {
    "name": "ipython",
    "version": 3
   },
   "file_extension": ".py",
   "mimetype": "text/x-python",
   "name": "python",
   "nbconvert_exporter": "python",
   "pygments_lexer": "ipython3",
   "version": "3.7.10"
  }
 },
 "nbformat": 4,
 "nbformat_minor": 5
}
